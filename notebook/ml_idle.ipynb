{
 "cells": [
  {
   "cell_type": "markdown",
   "id": "4cef5396-4cb3-4bbe-a752-b2dda165bed3",
   "metadata": {},
   "source": [
    "# Setup"
   ]
  },
  {
   "cell_type": "code",
   "execution_count": 2,
   "id": "fc1fcb41-aa7a-4dd1-98c7-12f42522dcfb",
   "metadata": {},
   "outputs": [],
   "source": [
    "import numpy as np\n",
    "import polars as pl\n",
    "import pandas as pd\n",
    "from joblib import dump, load\n",
    "from pathlib import Path\n",
    "from lisa.trace import Trace\n",
    "\n",
    "from sklearn.preprocessing import StandardScaler  \n",
    "from sklearn.model_selection import train_test_split, cross_validate, cross_val_score, GridSearchCV\n",
    "from sklearn.ensemble import RandomForestClassifier, ExtraTreesClassifier\n",
    "from sklearn.neural_network import MLPClassifier\n",
    "\n",
    "pl.enable_string_cache()"
   ]
  },
  {
   "cell_type": "code",
   "execution_count": 65,
   "id": "c4128096-853e-4373-a8f8-e8724f9e885a",
   "metadata": {},
   "outputs": [],
   "source": [
    "TRAINING_PATH = Path(\"../training\")\n",
    "TESTING_PATH = Path(\"../testing\")\n",
    "MODEL_PATH = Path(\"../models\")\n",
    "\n",
    "ANA = 'analysis'\n",
    "\n",
    "GB6 = TRAINING_PATH / 'geekbench_idle_trace_rq_3_1112'\n",
    "GB6_2 = TRAINING_PATH / 'geekbench_idle_trace_rq_3_1312'\n",
    "JET = TRAINING_PATH / 'jetnews_idle_trace_rq_10_1112'\n",
    "JET_2 = TRAINING_PATH / 'jetnews_idle_trace_rq_10_1212'\n",
    "SPE = TRAINING_PATH / 'speedometer_idle_trace_rq_10_1112'\n",
    "\n",
    "GB6_T = TESTING_PATH / 'geekbench_idle_trace_rq_test_3_1312'\n",
    "JET_T = TESTING_PATH / 'jetnews_idle_trace_rq_test_10_1412'\n",
    "SPE_T = TESTING_PATH / 'speedometer_idle_trace_rq_test_10_1312'\n",
    "DRA_T = TESTING_PATH / 'drarm_idle_trace_rq_10_1212'\n",
    "\n",
    "GB6_M = TESTING_PATH / 'geekbench_menu_idle_3_1412'\n",
    "JET_M = TESTING_PATH / 'jetnews_menu_idle_10_1412'\n",
    "SPE_M = TESTING_PATH / 'speedometer_menu_idle_10_1412'\n",
    "DRA_M = TESTING_PATH / 'drarm_menu_idle_10_1512'\n",
    "\n",
    "WORKLOADS = [GB6, JET, SPE]"
   ]
  },
  {
   "cell_type": "markdown",
   "id": "3768f536-b0e5-4747-bd13-6016f7aa623f",
   "metadata": {},
   "source": [
    "# CPUIdle baseline accuracy"
   ]
  },
  {
   "cell_type": "code",
   "execution_count": 68,
   "id": "1b3323b0-64be-44cb-aa25-b223f8cd3ebc",
   "metadata": {},
   "outputs": [
    {
     "name": "stdout",
     "output_type": "stream",
     "text": [
      "*** Menu idle accuracy ***\n",
      "\n",
      "Baseline for ../testing/geekbench_menu_idle_3_1412\n",
      "accuracy 0.816481372881879\n",
      "misses 0.18351862711812092\n",
      "too deep 0.1578486990339208 too shallow 0.02566992808420013\n",
      "\n",
      "Baseline for ../testing/jetnews_menu_idle_10_1412\n",
      "accuracy 0.6962507146510999\n",
      "misses 0.30374928534890017\n",
      "too deep 0.2697473562088553 too shallow 0.03400192914004487\n",
      "\n",
      "Baseline for ../testing/speedometer_menu_idle_10_1412\n",
      "accuracy 0.7800750738896148\n",
      "misses 0.21992492611038514\n",
      "too deep 0.18292211339068337 too shallow 0.037002812719701766\n",
      "\n",
      "Baseline for ../testing/drarm_menu_idle_10_1512\n",
      "accuracy 0.8691868299015306\n",
      "misses 0.1308131700984694\n",
      "too deep 0.11541427240054901 too shallow 0.015398897697920407\n",
      "\n",
      "Total menu baseline\n",
      "accuracy 0.8250149988085469\n",
      "misses 0.17498500119145316\n",
      "\n",
      "*** TEO idle accuracy ***\n",
      "Baseline for ../training/geekbench_idle_trace_rq_3_1112\n",
      "accuracy 0.7830149330655424\n",
      "misses 0.21698506693445763\n",
      "too deep 0.08570174250092319 too shallow 0.13128332443353444\n",
      "\n",
      "Baseline for ../training/geekbench_idle_trace_rq_3_1312\n",
      "accuracy 0.7973772045423059\n",
      "misses 0.20262279545769413\n",
      "too deep 0.06912713811573416 too shallow 0.13349565734195998\n",
      "\n",
      "Baseline for ../training/jetnews_idle_trace_rq_10_1112\n",
      "accuracy 0.7921134477978814\n",
      "misses 0.20788655220211863\n",
      "too deep 0.032157237069754305 too shallow 0.1757293151323643\n",
      "\n",
      "Baseline for ../training/jetnews_idle_trace_rq_10_1212\n",
      "accuracy 0.7817459178820201\n",
      "misses 0.21825408211797992\n",
      "too deep 0.030360141103595674 too shallow 0.18789394101438425\n",
      "\n",
      "Baseline for ../training/speedometer_idle_trace_rq_10_1112\n",
      "accuracy 0.8304460241426809\n",
      "misses 0.16955397585731916\n",
      "too deep 0.01033244217512073 too shallow 0.15922153368219844\n",
      "\n",
      "Baseline for ../testing/drarm_idle_trace_rq_10_1212\n",
      "accuracy 0.9509681896400448\n",
      "misses 0.04903181035995514\n",
      "too deep 0.0006858790244998658 too shallow 0.04834593133545527\n",
      "\n",
      "Total TEO baseline\n",
      "accuracy 0.8767279965586983\n",
      "misses 0.12327200344130176\n"
     ]
    }
   ],
   "source": [
    "def workload_idle_baseline_accuracy(path):\n",
    "    print('Baseline for', path)\n",
    "    cpu_idle = pl.read_parquet(path / ANA / 'cpu_idle.pqt')\n",
    "    wakeups = cpu_idle.filter(pl.col('state') == -1)\n",
    "    cpu_idle_miss = pl.read_parquet(path / ANA / 'cpu_idle_miss.pqt')\n",
    "    \n",
    "    print('accuracy', 1 - cpu_idle_miss.height / wakeups.height)\n",
    "    print('misses', cpu_idle_miss.height / wakeups.height)\n",
    "    print('too deep', cpu_idle_miss.filter(pl.col('state') == 1).height / wakeups.height, 'too shallow', cpu_idle_miss.filter(pl.col('state') == 0).height / wakeups.height)\n",
    "    print()\n",
    "\n",
    "    return (wakeups.height, cpu_idle_miss.height)\n",
    "\n",
    "print('*** Menu idle accuracy ***\\n')\n",
    "wakeups_gb6_m, misses_gb6_m = workload_idle_baseline_accuracy(GB6_M)\n",
    "wakeups_jet_m, misses_jet_m = workload_idle_baseline_accuracy(JET_M)\n",
    "wakeups_spe_m, misses_spe_m = workload_idle_baseline_accuracy(SPE_M)\n",
    "wakeups_dra_m, misses_dra_m = workload_idle_baseline_accuracy(DRA_M)\n",
    "\n",
    "wakeups_total_m = wakeups_gb6_m + wakeups_jet_m + wakeups_spe_m + wakeups_dra_m\n",
    "misses_total_m = misses_gb6_m + misses_jet_m + misses_spe_m + misses_dra_m\n",
    "\n",
    "print('Total menu baseline')\n",
    "print('accuracy', 1 - misses_total_m / wakeups_total_m)\n",
    "print('misses',  misses_total_m / wakeups_total_m)\n",
    "print()\n",
    "\n",
    "print('*** TEO idle accuracy ***')\n",
    "\n",
    "wakeups_gb6, misses_gb6 = workload_idle_baseline_accuracy(GB6)\n",
    "wakeups_gb6_2, misses_gb6_2 = workload_idle_baseline_accuracy(GB6_2)\n",
    "wakeups_jet, misses_jet = workload_idle_baseline_accuracy(JET)\n",
    "wakeups_jet_2, misses_jet_2 = workload_idle_baseline_accuracy(JET_2)\n",
    "wakeups_spe, misses_spe = workload_idle_baseline_accuracy(SPE)\n",
    "wakeups_dra, misses_dra = workload_idle_baseline_accuracy(DRA_T)\n",
    "\n",
    "wakeups_total = wakeups_gb6 + wakeups_gb6_2 + wakeups_jet + wakeups_jet_2 + wakeups_spe + wakeups_dra\n",
    "misses_total = misses_gb6 + misses_gb6_2 + misses_jet + misses_jet_2 + misses_spe + misses_dra\n",
    "\n",
    "print('Total TEO baseline')\n",
    "print('accuracy', 1 - misses_total / wakeups_total)\n",
    "print('misses',  misses_total / wakeups_total)"
   ]
  },
  {
   "cell_type": "markdown",
   "id": "85f74f54-453d-4b3c-86c2-53f91d5661c6",
   "metadata": {},
   "source": [
    "# Training data"
   ]
  },
  {
   "cell_type": "code",
   "execution_count": 5,
   "id": "6df88d90-84bf-4274-b331-103d94df8c33",
   "metadata": {},
   "outputs": [
    {
     "name": "stdout",
     "output_type": "stream",
     "text": [
      "gb6 (3292802, 28)\n",
      "jet (5234560, 28)\n",
      "spe (3987020, 28)\n",
      "dra (13051471, 28)\n",
      "total (9000009, 28)\n"
     ]
    },
    {
     "data": {
      "text/html": [
       "<div><style>\n",
       ".dataframe > thead > tr > th,\n",
       ".dataframe > tbody > tr > td {\n",
       "  text-align: right;\n",
       "  white-space: pre-wrap;\n",
       "}\n",
       "</style>\n",
       "<small>shape: (5, 28)</small><table border=\"1\" class=\"dataframe\"><thead><tr><th>sleep_id</th><th>cpu</th><th>sleep_length</th><th>time_span</th><th>measured</th><th>util</th><th>max_cap</th><th>s0hit</th><th>s0int</th><th>s0rec</th><th>s1hit</th><th>s1int</th><th>s1rec</th><th>nr_running</th><th>cfs_nr_running</th><th>nr_switches</th><th>rq_cpu_time</th><th>sched_count</th><th>ttwu_count</th><th>yld_count</th><th>timer_state</th><th>duration_state</th><th>state</th><th>hit</th><th>goal_state</th><th>iteration</th><th>kernel</th><th>wa_path</th></tr><tr><td>i64</td><td>i64</td><td>i64</td><td>i64</td><td>i64</td><td>i64</td><td>i64</td><td>i64</td><td>i64</td><td>i64</td><td>i64</td><td>i64</td><td>i64</td><td>i64</td><td>i64</td><td>i64</td><td>i64</td><td>i64</td><td>i64</td><td>i64</td><td>i64</td><td>i64</td><td>i64</td><td>i64</td><td>i32</td><td>i32</td><td>str</td><td>str</td></tr></thead><tbody><tr><td>825123</td><td>0</td><td>1336467</td><td>1367147</td><td>-1</td><td>1</td><td>160</td><td>2175</td><td>1389</td><td>1</td><td>4641</td><td>0</td><td>0</td><td>0</td><td>0</td><td>1988727</td><td>292746426980</td><td>2071140</td><td>983841</td><td>60405</td><td>0</td><td>0</td><td>0</td><td>1</td><td>0</td><td>1</td><td>&quot;6.3.0-mainline…</td><td>&quot;geekbench_idle…</td></tr><tr><td>825124</td><td>0</td><td>6561466</td><td>566366</td><td>408641</td><td>1</td><td>160</td><td>2928</td><td>1216</td><td>1</td><td>4061</td><td>0</td><td>0</td><td>0</td><td>0</td><td>1988727</td><td>292746426980</td><td>2071140</td><td>983842</td><td>60405</td><td>1</td><td>0</td><td>1</td><td>0</td><td>0</td><td>1</td><td>&quot;6.3.0-mainline…</td><td>&quot;geekbench_idle…</td></tr><tr><td>825125</td><td>0</td><td>5876082</td><td>393636</td><td>230825</td><td>1</td><td>160</td><td>2562</td><td>2088</td><td>2</td><td>3554</td><td>0</td><td>0</td><td>0</td><td>0</td><td>1988731</td><td>292746530414</td><td>2071144</td><td>983846</td><td>60405</td><td>1</td><td>0</td><td>1</td><td>0</td><td>0</td><td>1</td><td>&quot;6.3.0-mainline…</td><td>&quot;geekbench_idle…</td></tr><tr><td>825126</td><td>0</td><td>5396631</td><td>573079</td><td>422313</td><td>1</td><td>160</td><td>2242</td><td>2851</td><td>3</td><td>3110</td><td>0</td><td>0</td><td>0</td><td>0</td><td>1988734</td><td>292746603045</td><td>2071147</td><td>983849</td><td>60405</td><td>1</td><td>0</td><td>1</td><td>0</td><td>0</td><td>1</td><td>&quot;6.3.0-mainline…</td><td>&quot;geekbench_idle…</td></tr><tr><td>825127</td><td>0</td><td>4771387</td><td>4771387</td><td>-1</td><td>1</td><td>160</td><td>1962</td><td>3519</td><td>4</td><td>2722</td><td>0</td><td>0</td><td>0</td><td>0</td><td>1988736</td><td>292746651222</td><td>2071149</td><td>983851</td><td>60405</td><td>1</td><td>1</td><td>0</td><td>1</td><td>1</td><td>1</td><td>&quot;6.3.0-mainline…</td><td>&quot;geekbench_idle…</td></tr></tbody></table></div>"
      ],
      "text/plain": [
       "shape: (5, 28)\n",
       "┌──────────┬─────┬─────────────┬───────────┬───┬────────────┬───────────┬─────────────┬────────────┐\n",
       "│ sleep_id ┆ cpu ┆ sleep_lengt ┆ time_span ┆ … ┆ goal_state ┆ iteration ┆ kernel      ┆ wa_path    │\n",
       "│ ---      ┆ --- ┆ h           ┆ ---       ┆   ┆ ---        ┆ ---       ┆ ---         ┆ ---        │\n",
       "│ i64      ┆ i64 ┆ ---         ┆ i64       ┆   ┆ i32        ┆ i32       ┆ str         ┆ str        │\n",
       "│          ┆     ┆ i64         ┆           ┆   ┆            ┆           ┆             ┆            │\n",
       "╞══════════╪═════╪═════════════╪═══════════╪═══╪════════════╪═══════════╪═════════════╪════════════╡\n",
       "│ 825123   ┆ 0   ┆ 1336467     ┆ 1367147   ┆ … ┆ 0          ┆ 1         ┆ 6.3.0-mainl ┆ geekbench_ │\n",
       "│          ┆     ┆             ┆           ┆   ┆            ┆           ┆ ine-g7c68bf ┆ idle_trace │\n",
       "│          ┆     ┆             ┆           ┆   ┆            ┆           ┆ dc80c5-dir… ┆ _rq_3_1112 │\n",
       "│ 825124   ┆ 0   ┆ 6561466     ┆ 566366    ┆ … ┆ 0          ┆ 1         ┆ 6.3.0-mainl ┆ geekbench_ │\n",
       "│          ┆     ┆             ┆           ┆   ┆            ┆           ┆ ine-g7c68bf ┆ idle_trace │\n",
       "│          ┆     ┆             ┆           ┆   ┆            ┆           ┆ dc80c5-dir… ┆ _rq_3_1112 │\n",
       "│ 825125   ┆ 0   ┆ 5876082     ┆ 393636    ┆ … ┆ 0          ┆ 1         ┆ 6.3.0-mainl ┆ geekbench_ │\n",
       "│          ┆     ┆             ┆           ┆   ┆            ┆           ┆ ine-g7c68bf ┆ idle_trace │\n",
       "│          ┆     ┆             ┆           ┆   ┆            ┆           ┆ dc80c5-dir… ┆ _rq_3_1112 │\n",
       "│ 825126   ┆ 0   ┆ 5396631     ┆ 573079    ┆ … ┆ 0          ┆ 1         ┆ 6.3.0-mainl ┆ geekbench_ │\n",
       "│          ┆     ┆             ┆           ┆   ┆            ┆           ┆ ine-g7c68bf ┆ idle_trace │\n",
       "│          ┆     ┆             ┆           ┆   ┆            ┆           ┆ dc80c5-dir… ┆ _rq_3_1112 │\n",
       "│ 825127   ┆ 0   ┆ 4771387     ┆ 4771387   ┆ … ┆ 1          ┆ 1         ┆ 6.3.0-mainl ┆ geekbench_ │\n",
       "│          ┆     ┆             ┆           ┆   ┆            ┆           ┆ ine-g7c68bf ┆ idle_trace │\n",
       "│          ┆     ┆             ┆           ┆   ┆            ┆           ┆ dc80c5-dir… ┆ _rq_3_1112 │\n",
       "└──────────┴─────┴─────────────┴───────────┴───┴────────────┴───────────┴─────────────┴────────────┘"
      ]
     },
     "execution_count": 5,
     "metadata": {},
     "output_type": "execute_result"
    }
   ],
   "source": [
    "SLEEP_COUNT = 3_000_003\n",
    "\n",
    "idle_data_gb6 = pl.concat([\n",
    "    pl.read_parquet(GB6 / ANA / 'idle_decisions.pqt'),\n",
    "    pl.read_parquet(GB6_2 / ANA / 'idle_decisions.pqt')\n",
    "])\n",
    "print('gb6', idle_data_gb6.shape)\n",
    "\n",
    "idle_data_jet = pl.concat([\n",
    "  pl.read_parquet(JET / ANA / 'idle_decisions.pqt'),\n",
    "  pl.read_parquet(JET_2 / ANA / 'idle_decisions.pqt')  \n",
    "])\n",
    "print('jet', idle_data_jet.shape)\n",
    "\n",
    "idle_data_spe = pl.read_parquet(SPE / ANA / 'idle_decisions.pqt')\n",
    "print('spe', idle_data_spe.shape)\n",
    "\n",
    "idle_data_dra = pl.read_parquet(DRA / ANA / 'idle_decisions.pqt')\n",
    "print('dra', idle_data_dra.shape)\n",
    "\n",
    "idle_data = pl.concat([idle_data_gb6[:SLEEP_COUNT], idle_data_jet[:SLEEP_COUNT], idle_data_spe[:SLEEP_COUNT]])\n",
    "print('total', idle_data.shape)\n",
    "idle_data.head()"
   ]
  },
  {
   "cell_type": "code",
   "execution_count": 6,
   "id": "7b30e9d3-5323-447e-a6b4-0dced46e4d54",
   "metadata": {},
   "outputs": [
    {
     "data": {
      "text/html": [
       "<div><style>\n",
       ".dataframe > thead > tr > th,\n",
       ".dataframe > tbody > tr > td {\n",
       "  text-align: right;\n",
       "  white-space: pre-wrap;\n",
       "}\n",
       "</style>\n",
       "<small>shape: (5, 28)</small><table border=\"1\" class=\"dataframe\"><thead><tr><th>sleep_id</th><th>cpu</th><th>sleep_length</th><th>time_span</th><th>measured</th><th>util</th><th>max_cap</th><th>s0hit</th><th>s0int</th><th>s0rec</th><th>s1hit</th><th>s1int</th><th>s1rec</th><th>nr_running</th><th>cfs_nr_running</th><th>nr_switches</th><th>rq_cpu_time</th><th>sched_count</th><th>ttwu_count</th><th>yld_count</th><th>timer_state</th><th>duration_state</th><th>state</th><th>hit</th><th>goal_state</th><th>iteration</th><th>kernel</th><th>wa_path</th></tr><tr><td>i64</td><td>i64</td><td>i64</td><td>i64</td><td>i64</td><td>i64</td><td>i64</td><td>i64</td><td>i64</td><td>i64</td><td>i64</td><td>i64</td><td>i64</td><td>i64</td><td>i64</td><td>i64</td><td>i64</td><td>i64</td><td>i64</td><td>i64</td><td>i64</td><td>i64</td><td>i64</td><td>i64</td><td>i32</td><td>i32</td><td>str</td><td>str</td></tr></thead><tbody><tr><td>825124</td><td>0</td><td>6561466</td><td>566366</td><td>408641</td><td>1</td><td>160</td><td>2928</td><td>1216</td><td>1</td><td>4061</td><td>0</td><td>0</td><td>0</td><td>0</td><td>0</td><td>0</td><td>0</td><td>1</td><td>0</td><td>1</td><td>0</td><td>1</td><td>0</td><td>0</td><td>1</td><td>&quot;6.3.0-mainline…</td><td>&quot;geekbench_idle…</td></tr><tr><td>825125</td><td>0</td><td>5876082</td><td>393636</td><td>230825</td><td>1</td><td>160</td><td>2562</td><td>2088</td><td>2</td><td>3554</td><td>0</td><td>0</td><td>0</td><td>0</td><td>4</td><td>103434</td><td>4</td><td>4</td><td>0</td><td>1</td><td>0</td><td>1</td><td>0</td><td>0</td><td>1</td><td>&quot;6.3.0-mainline…</td><td>&quot;geekbench_idle…</td></tr><tr><td>825126</td><td>0</td><td>5396631</td><td>573079</td><td>422313</td><td>1</td><td>160</td><td>2242</td><td>2851</td><td>3</td><td>3110</td><td>0</td><td>0</td><td>0</td><td>0</td><td>3</td><td>72631</td><td>3</td><td>3</td><td>0</td><td>1</td><td>0</td><td>1</td><td>0</td><td>0</td><td>1</td><td>&quot;6.3.0-mainline…</td><td>&quot;geekbench_idle…</td></tr><tr><td>825127</td><td>0</td><td>4771387</td><td>4771387</td><td>-1</td><td>1</td><td>160</td><td>1962</td><td>3519</td><td>4</td><td>2722</td><td>0</td><td>0</td><td>0</td><td>0</td><td>2</td><td>48177</td><td>2</td><td>2</td><td>0</td><td>1</td><td>1</td><td>0</td><td>1</td><td>1</td><td>1</td><td>&quot;6.3.0-mainline…</td><td>&quot;geekbench_idle…</td></tr><tr><td>825128</td><td>0</td><td>3942733</td><td>4092855</td><td>-1</td><td>1</td><td>160</td><td>1717</td><td>3080</td><td>4</td><td>3406</td><td>0</td><td>0</td><td>0</td><td>0</td><td>0</td><td>0</td><td>0</td><td>0</td><td>0</td><td>1</td><td>1</td><td>1</td><td>1</td><td>1</td><td>1</td><td>&quot;6.3.0-mainline…</td><td>&quot;geekbench_idle…</td></tr></tbody></table></div>"
      ],
      "text/plain": [
       "shape: (5, 28)\n",
       "┌──────────┬─────┬─────────────┬───────────┬───┬────────────┬───────────┬─────────────┬────────────┐\n",
       "│ sleep_id ┆ cpu ┆ sleep_lengt ┆ time_span ┆ … ┆ goal_state ┆ iteration ┆ kernel      ┆ wa_path    │\n",
       "│ ---      ┆ --- ┆ h           ┆ ---       ┆   ┆ ---        ┆ ---       ┆ ---         ┆ ---        │\n",
       "│ i64      ┆ i64 ┆ ---         ┆ i64       ┆   ┆ i32        ┆ i32       ┆ str         ┆ str        │\n",
       "│          ┆     ┆ i64         ┆           ┆   ┆            ┆           ┆             ┆            │\n",
       "╞══════════╪═════╪═════════════╪═══════════╪═══╪════════════╪═══════════╪═════════════╪════════════╡\n",
       "│ 825124   ┆ 0   ┆ 6561466     ┆ 566366    ┆ … ┆ 0          ┆ 1         ┆ 6.3.0-mainl ┆ geekbench_ │\n",
       "│          ┆     ┆             ┆           ┆   ┆            ┆           ┆ ine-g7c68bf ┆ idle_trace │\n",
       "│          ┆     ┆             ┆           ┆   ┆            ┆           ┆ dc80c5-dir… ┆ _rq_3_1112 │\n",
       "│ 825125   ┆ 0   ┆ 5876082     ┆ 393636    ┆ … ┆ 0          ┆ 1         ┆ 6.3.0-mainl ┆ geekbench_ │\n",
       "│          ┆     ┆             ┆           ┆   ┆            ┆           ┆ ine-g7c68bf ┆ idle_trace │\n",
       "│          ┆     ┆             ┆           ┆   ┆            ┆           ┆ dc80c5-dir… ┆ _rq_3_1112 │\n",
       "│ 825126   ┆ 0   ┆ 5396631     ┆ 573079    ┆ … ┆ 0          ┆ 1         ┆ 6.3.0-mainl ┆ geekbench_ │\n",
       "│          ┆     ┆             ┆           ┆   ┆            ┆           ┆ ine-g7c68bf ┆ idle_trace │\n",
       "│          ┆     ┆             ┆           ┆   ┆            ┆           ┆ dc80c5-dir… ┆ _rq_3_1112 │\n",
       "│ 825127   ┆ 0   ┆ 4771387     ┆ 4771387   ┆ … ┆ 1          ┆ 1         ┆ 6.3.0-mainl ┆ geekbench_ │\n",
       "│          ┆     ┆             ┆           ┆   ┆            ┆           ┆ ine-g7c68bf ┆ idle_trace │\n",
       "│          ┆     ┆             ┆           ┆   ┆            ┆           ┆ dc80c5-dir… ┆ _rq_3_1112 │\n",
       "│ 825128   ┆ 0   ┆ 3942733     ┆ 4092855   ┆ … ┆ 1          ┆ 1         ┆ 6.3.0-mainl ┆ geekbench_ │\n",
       "│          ┆     ┆             ┆           ┆   ┆            ┆           ┆ ine-g7c68bf ┆ idle_trace │\n",
       "│          ┆     ┆             ┆           ┆   ┆            ┆           ┆ dc80c5-dir… ┆ _rq_3_1112 │\n",
       "└──────────┴─────┴─────────────┴───────────┴───┴────────────┴───────────┴─────────────┴────────────┘"
      ]
     },
     "execution_count": 6,
     "metadata": {},
     "output_type": "execute_result"
    }
   ],
   "source": [
    "idle_data_dra_processed = idle_data_dra.with_columns(\n",
    "    pl.col('nr_switches').diff().over('cpu'), pl.col('rq_cpu_time').diff().over('cpu'), pl.col('sched_count').diff().over('cpu'), pl.col('ttwu_count').diff().over('cpu'), pl.col('yld_count').diff().over('cpu')\n",
    ").drop_nulls()\n",
    "\n",
    "idle_data_processed = idle_data.with_columns(\n",
    "    pl.col('nr_switches').diff().over('cpu'), pl.col('rq_cpu_time').diff().over('cpu'), pl.col('sched_count').diff().over('cpu'), pl.col('ttwu_count').diff().over('cpu'), pl.col('yld_count').diff().over('cpu')\n",
    ").drop_nulls()\n",
    "idle_data_processed.head()"
   ]
  },
  {
   "cell_type": "code",
   "execution_count": 10,
   "id": "5a7f8b26-fbb2-46af-8460-7a8e8e7e9f52",
   "metadata": {},
   "outputs": [
    {
     "name": "stdout",
     "output_type": "stream",
     "text": [
      "TEO decision accuracy 0.7948968005670222\n",
      "(9000001, 16) (9000001,)\n"
     ]
    },
    {
     "data": {
      "text/html": [
       "<div>\n",
       "<style scoped>\n",
       "    .dataframe tbody tr th:only-of-type {\n",
       "        vertical-align: middle;\n",
       "    }\n",
       "\n",
       "    .dataframe tbody tr th {\n",
       "        vertical-align: top;\n",
       "    }\n",
       "\n",
       "    .dataframe thead th {\n",
       "        text-align: right;\n",
       "    }\n",
       "</style>\n",
       "<table border=\"1\" class=\"dataframe\">\n",
       "  <thead>\n",
       "    <tr style=\"text-align: right;\">\n",
       "      <th></th>\n",
       "      <th>sleep_length</th>\n",
       "      <th>util</th>\n",
       "      <th>max_cap</th>\n",
       "      <th>s0hit</th>\n",
       "      <th>s0int</th>\n",
       "      <th>s0rec</th>\n",
       "      <th>s1hit</th>\n",
       "      <th>s1int</th>\n",
       "      <th>s1rec</th>\n",
       "      <th>nr_running</th>\n",
       "      <th>cfs_nr_running</th>\n",
       "      <th>nr_switches</th>\n",
       "      <th>rq_cpu_time</th>\n",
       "      <th>sched_count</th>\n",
       "      <th>ttwu_count</th>\n",
       "      <th>yld_count</th>\n",
       "    </tr>\n",
       "  </thead>\n",
       "  <tbody>\n",
       "    <tr>\n",
       "      <th>0</th>\n",
       "      <td>6561466</td>\n",
       "      <td>1</td>\n",
       "      <td>160</td>\n",
       "      <td>2928</td>\n",
       "      <td>1216</td>\n",
       "      <td>1</td>\n",
       "      <td>4061</td>\n",
       "      <td>0</td>\n",
       "      <td>0</td>\n",
       "      <td>0</td>\n",
       "      <td>0</td>\n",
       "      <td>0</td>\n",
       "      <td>0</td>\n",
       "      <td>0</td>\n",
       "      <td>1</td>\n",
       "      <td>0</td>\n",
       "    </tr>\n",
       "    <tr>\n",
       "      <th>1</th>\n",
       "      <td>5876082</td>\n",
       "      <td>1</td>\n",
       "      <td>160</td>\n",
       "      <td>2562</td>\n",
       "      <td>2088</td>\n",
       "      <td>2</td>\n",
       "      <td>3554</td>\n",
       "      <td>0</td>\n",
       "      <td>0</td>\n",
       "      <td>0</td>\n",
       "      <td>0</td>\n",
       "      <td>4</td>\n",
       "      <td>103434</td>\n",
       "      <td>4</td>\n",
       "      <td>4</td>\n",
       "      <td>0</td>\n",
       "    </tr>\n",
       "    <tr>\n",
       "      <th>2</th>\n",
       "      <td>5396631</td>\n",
       "      <td>1</td>\n",
       "      <td>160</td>\n",
       "      <td>2242</td>\n",
       "      <td>2851</td>\n",
       "      <td>3</td>\n",
       "      <td>3110</td>\n",
       "      <td>0</td>\n",
       "      <td>0</td>\n",
       "      <td>0</td>\n",
       "      <td>0</td>\n",
       "      <td>3</td>\n",
       "      <td>72631</td>\n",
       "      <td>3</td>\n",
       "      <td>3</td>\n",
       "      <td>0</td>\n",
       "    </tr>\n",
       "    <tr>\n",
       "      <th>3</th>\n",
       "      <td>4771387</td>\n",
       "      <td>1</td>\n",
       "      <td>160</td>\n",
       "      <td>1962</td>\n",
       "      <td>3519</td>\n",
       "      <td>4</td>\n",
       "      <td>2722</td>\n",
       "      <td>0</td>\n",
       "      <td>0</td>\n",
       "      <td>0</td>\n",
       "      <td>0</td>\n",
       "      <td>2</td>\n",
       "      <td>48177</td>\n",
       "      <td>2</td>\n",
       "      <td>2</td>\n",
       "      <td>0</td>\n",
       "    </tr>\n",
       "    <tr>\n",
       "      <th>4</th>\n",
       "      <td>3942733</td>\n",
       "      <td>1</td>\n",
       "      <td>160</td>\n",
       "      <td>1717</td>\n",
       "      <td>3080</td>\n",
       "      <td>4</td>\n",
       "      <td>3406</td>\n",
       "      <td>0</td>\n",
       "      <td>0</td>\n",
       "      <td>0</td>\n",
       "      <td>0</td>\n",
       "      <td>0</td>\n",
       "      <td>0</td>\n",
       "      <td>0</td>\n",
       "      <td>0</td>\n",
       "      <td>0</td>\n",
       "    </tr>\n",
       "  </tbody>\n",
       "</table>\n",
       "</div>"
      ],
      "text/plain": [
       "   sleep_length  util  max_cap  s0hit  s0int  s0rec  s1hit  s1int  s1rec  \\\n",
       "0       6561466     1      160   2928   1216      1   4061      0      0   \n",
       "1       5876082     1      160   2562   2088      2   3554      0      0   \n",
       "2       5396631     1      160   2242   2851      3   3110      0      0   \n",
       "3       4771387     1      160   1962   3519      4   2722      0      0   \n",
       "4       3942733     1      160   1717   3080      4   3406      0      0   \n",
       "\n",
       "   nr_running  cfs_nr_running  nr_switches  rq_cpu_time  sched_count  \\\n",
       "0           0               0            0            0            0   \n",
       "1           0               0            4       103434            4   \n",
       "2           0               0            3        72631            3   \n",
       "3           0               0            2        48177            2   \n",
       "4           0               0            0            0            0   \n",
       "\n",
       "   ttwu_count  yld_count  \n",
       "0           1          0  \n",
       "1           4          0  \n",
       "2           3          0  \n",
       "3           2          0  \n",
       "4           0          0  "
      ]
     },
     "metadata": {},
     "output_type": "display_data"
    },
    {
     "data": {
      "text/plain": [
       "0    0\n",
       "1    0\n",
       "2    0\n",
       "3    1\n",
       "4    1\n",
       "Name: goal_state, dtype: int32"
      ]
     },
     "execution_count": 10,
     "metadata": {},
     "output_type": "execute_result"
    }
   ],
   "source": [
    "def training_strip(df):\n",
    "    df = df.drop([\n",
    "        'sleep_id', 'time_span', 'measured', 'state', 'hit', 'timer_state', 'duration_state', 'cpu', 'iteration', 'kernel', 'wa_path',\n",
    "    ]).to_pandas()\n",
    "    X = df.drop(['goal_state'], axis=1)\n",
    "    y = df['goal_state']\n",
    "    return (X, y)\n",
    "\n",
    "print('TEO decision accuracy', 1 - idle_data_processed.filter(pl.col('state') != pl.col('goal_state')).height / idle_data_processed.height)\n",
    "X, y = training_strip(idle_data_processed)\n",
    "print(X.shape, y.shape)\n",
    "display(X.head())\n",
    "y.head()"
   ]
  },
  {
   "cell_type": "markdown",
   "id": "146714df-ffa4-4b8a-9081-e366f276847a",
   "metadata": {},
   "source": [
    "# RandomForest"
   ]
  },
  {
   "cell_type": "markdown",
   "id": "8b4e2490-554b-4111-859b-c5771163ee92",
   "metadata": {},
   "source": [
    "## Train-test split"
   ]
  },
  {
   "cell_type": "code",
   "execution_count": null,
   "id": "b1c4c3c1-d96d-4c28-a6b1-176caeab7e78",
   "metadata": {},
   "outputs": [],
   "source": [
    "# overfitting at max_depth > 16-17\n",
    "# optimal accuracy around max_depth == 15"
   ]
  },
  {
   "cell_type": "code",
   "execution_count": 24,
   "id": "bd3057c0-d0fe-4326-b002-226addb8e957",
   "metadata": {},
   "outputs": [
    {
     "name": "stdout",
     "output_type": "stream",
     "text": [
      "RandomForest accuracy on full set: 0.817\n",
      "RandomForest accuracy on training set: 0.818\n",
      "RandomForest accuracy on test set: 0.813\n"
     ]
    }
   ],
   "source": [
    "X_train, X_test, y_train, y_test = train_test_split(X, y)\n",
    "\n",
    "base_forest = RandomForestClassifier(n_estimators=10, n_jobs=8, max_depth=16)\n",
    "base_forest.fit(X_train, y_train)\n",
    "print(\"RandomForest accuracy on full set: {:.3f}\".format(base_forest.score(X, y)))\n",
    "print(\"RandomForest accuracy on training set: {:.3f}\".format(base_forest.score(X_train, y_train)))\n",
    "print(\"RandomForest accuracy on test set: {:.3f}\".format(base_forest.score(X_test, y_test)))"
   ]
  },
  {
   "cell_type": "markdown",
   "id": "031cc70e-2dd3-42ab-80f4-67e0fdff9c9f",
   "metadata": {},
   "source": [
    "## Grid Search CV"
   ]
  },
  {
   "cell_type": "code",
   "execution_count": 25,
   "id": "cd0065f3-90aa-4765-b844-ae15d5fec2eb",
   "metadata": {},
   "outputs": [
    {
     "name": "stdout",
     "output_type": "stream",
     "text": [
      "0.8114302973166003 [0.80672444 0.8071843  0.80714904 0.80721304 0.80740696 0.80717881\n",
      " 0.80710326 0.80736963 0.80722504 0.80750726 0.80721719 0.80816385\n",
      " 0.80827111 0.808404   0.80823956 0.80827615 0.80831319 0.80804948\n",
      " 0.80841985 0.80831393 0.80843807 0.80844474 0.80898133 0.80906385\n",
      " 0.80940104 0.80917259 0.80920711 0.80927467 0.80941911 0.80955407\n",
      " 0.80920622 0.809572   0.80930444 0.81020667 0.81040504 0.81032489\n",
      " 0.81049911 0.81040815 0.8103957  0.81043289 0.81053319 0.81081733\n",
      " 0.81072548 0.81079215 0.81123467 0.81110815 0.81141259 0.81166267\n",
      " 0.81169481 0.8118677  0.81196    0.81171541 0.81176281 0.81188904\n",
      " 0.81199111 0.8119517  0.81220163 0.81230815 0.81230696 0.81234504\n",
      " 0.81241689 0.81264948 0.81258948 0.81280267 0.8125883  0.81285911\n",
      " 0.81211689 0.81273037 0.81293911 0.81338296 0.8133723  0.81337837\n",
      " 0.81359852 0.81332311 0.81359304 0.81358296 0.81389452 0.81288904\n",
      " 0.81314622 0.81342207 0.81376044 0.81410741 0.81393615 0.81421778\n",
      " 0.81406711 0.81431837 0.81416519 0.81446844 0.81246859 0.81351526\n",
      " 0.81351096 0.81407644 0.81428593 0.81435496 0.81449007 0.81469259\n",
      " 0.81491141 0.81496741 0.81492193 0.81239511 0.81330237 0.81358963\n",
      " 0.81398133 0.81440919 0.8145317  0.81465719 0.81492341 0.81524252\n",
      " 0.81532415 0.81551778 0.81206222 0.81290578 0.81346963 0.81405585\n",
      " 0.81432089 0.81472074 0.8149883  0.81502474 0.81533941 0.81542844\n",
      " 0.81554415 0.80646607 0.806468   0.80659215 0.80698622 0.80685393\n",
      " 0.80647659 0.80686904 0.8069517  0.80693067 0.80678919 0.80696637\n",
      " 0.80713244 0.80717481 0.80756385 0.80751496 0.807748   0.80767081\n",
      " 0.8076283  0.80776356 0.80802089 0.80775096 0.80796504 0.80841319\n",
      " 0.80858385 0.80871185 0.80885881 0.808644   0.80864148 0.80849615\n",
      " 0.80869067 0.80867304 0.80867585 0.808616   0.80963881 0.80972459\n",
      " 0.80975615 0.80943822 0.80969022 0.8094277  0.80939852 0.80960904\n",
      " 0.80989363 0.80990622 0.80987111 0.81031778 0.81036148 0.81065985\n",
      " 0.81049911 0.81095778 0.81080104 0.81072785 0.81076415 0.81102296\n",
      " 0.81074504 0.81093822 0.81134178 0.81121496 0.81145452 0.81168163\n",
      " 0.81182919 0.811916   0.81179274 0.81199304 0.81185541 0.81181674\n",
      " 0.81202015 0.81191067 0.81215215 0.81241378 0.81253956 0.81269837\n",
      " 0.81284874 0.81286044 0.81290904 0.81308548 0.81287348 0.81298444\n",
      " 0.8125883  0.81295704 0.81311081 0.81329556 0.81326815 0.81348681\n",
      " 0.813456   0.8134837  0.81365719 0.81382815 0.81378874 0.81299956\n",
      " 0.81319748 0.81380711 0.81380207 0.81391985 0.81410015 0.81408163\n",
      " 0.8143643  0.81445644 0.81427244 0.81461496 0.81303496 0.81342533\n",
      " 0.813772   0.81420133 0.81442444 0.81447644 0.81472593 0.81479719\n",
      " 0.81502015 0.81503215 0.81509837 0.81255615 0.81323852 0.81390681\n",
      " 0.81418104 0.81447096 0.81487763 0.81495037 0.81510815 0.81524519\n",
      " 0.8153357  0.81550296 0.8070403  0.80657822 0.80653067 0.80677215\n",
      " 0.80658193 0.80666726 0.80685644 0.80667437 0.8068403  0.80693481\n",
      " 0.80696459 0.80732044 0.80752578 0.80749141 0.80740756 0.80755941\n",
      " 0.80783778 0.80787511 0.80781615 0.80763467 0.80762533 0.80765007\n",
      " 0.80817422 0.80842593 0.80855259 0.80859215 0.80839511 0.80857363\n",
      " 0.80871733 0.80869911 0.80881126 0.80858489 0.8085003  0.80962578\n",
      " 0.8092237  0.80953319 0.80934711 0.80953378 0.80961378 0.80962356\n",
      " 0.80952889 0.8099843  0.80980237 0.80980415 0.81014785 0.81059956\n",
      " 0.81077393 0.81044696 0.8105077  0.81073778 0.81072978 0.81087304\n",
      " 0.81093126 0.81093096 0.81098756 0.81113096 0.81127881 0.81180904\n",
      " 0.81179911 0.81186756 0.81172104 0.81146785 0.8118483  0.81201407\n",
      " 0.8117883  0.81208193 0.81209304 0.81221541 0.81229215 0.81262563\n",
      " 0.81262074 0.81291096 0.81257067 0.81271496 0.81307393 0.81299689\n",
      " 0.81296311 0.81259763 0.81316978 0.81309956 0.81336385 0.81331393\n",
      " 0.81354548 0.81358681 0.81379126 0.81376859 0.81379689 0.81381052\n",
      " 0.8128683  0.81312519 0.81356237 0.81366548 0.81388711 0.81399496\n",
      " 0.814224   0.8143763  0.81439793 0.81440785 0.81458281 0.8129037\n",
      " 0.81322904 0.81400385 0.81408281 0.81436178 0.8144923  0.81482015\n",
      " 0.81480281 0.81488074 0.81512059 0.81514785 0.81266311 0.81332178\n",
      " 0.81390622 0.81435244 0.81426711 0.8148637  0.81498059 0.81526889\n",
      " 0.81502222 0.81531793 0.81555185]\n",
      "Best RandomForest accuracy on full dataset 0.8278199080200103\n",
      "Best RandomForest accuracy on test dataset 0.8156551930421364\n"
     ]
    }
   ],
   "source": [
    "parameters = {'n_estimators': [5, 6, 7, 8, 9, 10, 11, 12, 13, 14, 15], 'max_depth': [10, 11, 12, 13, 14, 15, 16, 17, 18, 19, 20], 'criterion': ('gini', 'entropy', 'log_loss')}\n",
    "clf = GridSearchCV(RandomForestClassifier(n_jobs=8), parameters)\n",
    "clf.fit(X_train, y_train)\n",
    "print(clf.cv_results_['mean_test_score'].mean(), clf.cv_results_['mean_test_score'])\n",
    "print('Best RandomForest accuracy on full dataset', clf.best_estimator_.score(X, y))\n",
    "print('Best RandomForest accuracy on test dataset', clf.best_estimator_.score(X_test, y_test))"
   ]
  },
  {
   "cell_type": "code",
   "execution_count": 54,
   "id": "0fe786f8-6631-4322-8bab-4847d0ad5e73",
   "metadata": {},
   "outputs": [
    {
     "name": "stdout",
     "output_type": "stream",
     "text": [
      "RandomForest accuracy on full dataset:  0.8179599091155657\n",
      "RandomForest accuracy on test dataset:  0.817932969807569\n"
     ]
    }
   ],
   "source": [
    "# print(clf.cv_results_['mean_test_score'].mean(), clf.cv_results_['mean_test_score'])\n",
    "\n",
    "# forest = clf.best_estimator_\n",
    "print('RandomForest accuracy on full dataset: ', forest.score(X, y))\n",
    "print('RandomForest accuracy on test dataset: ', forest.score(X_test, y_test))"
   ]
  },
  {
   "cell_type": "code",
   "execution_count": 50,
   "id": "1a955a87-1d74-42cc-8255-0ce9100da90d",
   "metadata": {},
   "outputs": [],
   "source": [
    "# dump(base_forest, MODEL_PATH / 'rq_gb6_jet_spe_3m_forest_10e_16d_814.joblib')\n",
    "\n",
    "# dump(forest, MODEL_PATH / 'rq_gb6_jet_spe_3m_log_loss_forest_15e_20d_815.joblib')\n",
    "forest = load(Path(MODEL_PATH) / 'rq_gb6_jet_spe_3m_forest_10e_16d_814.joblib')\n",
    "\n",
    "# dump(clf.best_estimator_, Path(MODEL_PATH) / 'gb6_3_forest_80.joblib')\n",
    "# forest2 = load(Path(MODEL_PATH) / 'gb6_3_forest_80.joblib')\n",
    "\n",
    "# dump(clf, Path(MODEL_PATH) / 'gb6_3_gridcv_80.joblib')\n",
    "# clf2 = load(Path(MODEL_PATH) / 'gb6_3_gridcv_80.joblib')\n",
    "\n",
    "# forest = load(Path(MODEL_PATH) / 'gb6_jet_spe_forest_80.joblib')\n",
    "# forest.score(X, y)"
   ]
  },
  {
   "cell_type": "code",
   "execution_count": 55,
   "id": "4aa98fa7-b346-434e-9eb5-b844baa96efd",
   "metadata": {},
   "outputs": [
    {
     "data": {
      "text/html": [
       "<style>#sk-container-id-7 {color: black;}#sk-container-id-7 pre{padding: 0;}#sk-container-id-7 div.sk-toggleable {background-color: white;}#sk-container-id-7 label.sk-toggleable__label {cursor: pointer;display: block;width: 100%;margin-bottom: 0;padding: 0.3em;box-sizing: border-box;text-align: center;}#sk-container-id-7 label.sk-toggleable__label-arrow:before {content: \"▸\";float: left;margin-right: 0.25em;color: #696969;}#sk-container-id-7 label.sk-toggleable__label-arrow:hover:before {color: black;}#sk-container-id-7 div.sk-estimator:hover label.sk-toggleable__label-arrow:before {color: black;}#sk-container-id-7 div.sk-toggleable__content {max-height: 0;max-width: 0;overflow: hidden;text-align: left;background-color: #f0f8ff;}#sk-container-id-7 div.sk-toggleable__content pre {margin: 0.2em;color: black;border-radius: 0.25em;background-color: #f0f8ff;}#sk-container-id-7 input.sk-toggleable__control:checked~div.sk-toggleable__content {max-height: 200px;max-width: 100%;overflow: auto;}#sk-container-id-7 input.sk-toggleable__control:checked~label.sk-toggleable__label-arrow:before {content: \"▾\";}#sk-container-id-7 div.sk-estimator input.sk-toggleable__control:checked~label.sk-toggleable__label {background-color: #d4ebff;}#sk-container-id-7 div.sk-label input.sk-toggleable__control:checked~label.sk-toggleable__label {background-color: #d4ebff;}#sk-container-id-7 input.sk-hidden--visually {border: 0;clip: rect(1px 1px 1px 1px);clip: rect(1px, 1px, 1px, 1px);height: 1px;margin: -1px;overflow: hidden;padding: 0;position: absolute;width: 1px;}#sk-container-id-7 div.sk-estimator {font-family: monospace;background-color: #f0f8ff;border: 1px dotted black;border-radius: 0.25em;box-sizing: border-box;margin-bottom: 0.5em;}#sk-container-id-7 div.sk-estimator:hover {background-color: #d4ebff;}#sk-container-id-7 div.sk-parallel-item::after {content: \"\";width: 100%;border-bottom: 1px solid gray;flex-grow: 1;}#sk-container-id-7 div.sk-label:hover label.sk-toggleable__label {background-color: #d4ebff;}#sk-container-id-7 div.sk-serial::before {content: \"\";position: absolute;border-left: 1px solid gray;box-sizing: border-box;top: 0;bottom: 0;left: 50%;z-index: 0;}#sk-container-id-7 div.sk-serial {display: flex;flex-direction: column;align-items: center;background-color: white;padding-right: 0.2em;padding-left: 0.2em;position: relative;}#sk-container-id-7 div.sk-item {position: relative;z-index: 1;}#sk-container-id-7 div.sk-parallel {display: flex;align-items: stretch;justify-content: center;background-color: white;position: relative;}#sk-container-id-7 div.sk-item::before, #sk-container-id-7 div.sk-parallel-item::before {content: \"\";position: absolute;border-left: 1px solid gray;box-sizing: border-box;top: 0;bottom: 0;left: 50%;z-index: -1;}#sk-container-id-7 div.sk-parallel-item {display: flex;flex-direction: column;z-index: 1;position: relative;background-color: white;}#sk-container-id-7 div.sk-parallel-item:first-child::after {align-self: flex-end;width: 50%;}#sk-container-id-7 div.sk-parallel-item:last-child::after {align-self: flex-start;width: 50%;}#sk-container-id-7 div.sk-parallel-item:only-child::after {width: 0;}#sk-container-id-7 div.sk-dashed-wrapped {border: 1px dashed gray;margin: 0 0.4em 0.5em 0.4em;box-sizing: border-box;padding-bottom: 0.4em;background-color: white;}#sk-container-id-7 div.sk-label label {font-family: monospace;font-weight: bold;display: inline-block;line-height: 1.2em;}#sk-container-id-7 div.sk-label-container {text-align: center;}#sk-container-id-7 div.sk-container {/* jupyter's `normalize.less` sets `[hidden] { display: none; }` but bootstrap.min.css set `[hidden] { display: none !important; }` so we also need the `!important` here to be able to override the default hidden behavior on the sphinx rendered scikit-learn.org. See: https://github.com/scikit-learn/scikit-learn/issues/21755 */display: inline-block !important;position: relative;}#sk-container-id-7 div.sk-text-repr-fallback {display: none;}</style><div id=\"sk-container-id-7\" class=\"sk-top-container\"><div class=\"sk-text-repr-fallback\"><pre>RandomForestClassifier(max_depth=16, n_estimators=10, n_jobs=8)</pre><b>In a Jupyter environment, please rerun this cell to show the HTML representation or trust the notebook. <br />On GitHub, the HTML representation is unable to render, please try loading this page with nbviewer.org.</b></div><div class=\"sk-container\" hidden><div class=\"sk-item\"><div class=\"sk-estimator sk-toggleable\"><input class=\"sk-toggleable__control sk-hidden--visually\" id=\"sk-estimator-id-7\" type=\"checkbox\" checked><label for=\"sk-estimator-id-7\" class=\"sk-toggleable__label sk-toggleable__label-arrow\">RandomForestClassifier</label><div class=\"sk-toggleable__content\"><pre>RandomForestClassifier(max_depth=16, n_estimators=10, n_jobs=8)</pre></div></div></div></div></div>"
      ],
      "text/plain": [
       "RandomForestClassifier(max_depth=16, n_estimators=10, n_jobs=8)"
      ]
     },
     "execution_count": 55,
     "metadata": {},
     "output_type": "execute_result"
    }
   ],
   "source": [
    "forest"
   ]
  },
  {
   "cell_type": "code",
   "execution_count": null,
   "id": "ee7e5835-596d-40cb-be1a-c06521741b38",
   "metadata": {},
   "outputs": [],
   "source": [
    "import emlearn\n",
    "cmodel = emlearn.convert(forest, method='inline', dtype='int32')\n",
    "# cmodel.save(file='rq_gb6_jet_spe_forest_5e_16d_815.h', name='forest_idle_rq')\n",
    "cmodel"
   ]
  },
  {
   "cell_type": "markdown",
   "id": "774ca906-061f-445b-8f06-3fd3891e827d",
   "metadata": {},
   "source": [
    "# Validation"
   ]
  },
  {
   "cell_type": "markdown",
   "id": "7b2437fa-918e-4a74-8346-b10d00d4d820",
   "metadata": {},
   "source": [
    "## Load validation data"
   ]
  },
  {
   "cell_type": "code",
   "execution_count": 72,
   "id": "45af348e-616b-4393-8dfc-456579c502cb",
   "metadata": {},
   "outputs": [
    {
     "name": "stdout",
     "output_type": "stream",
     "text": [
      "gb6 (1546354, 28)\n",
      "jet (2603689, 28)\n",
      "spe (3731326, 28)\n",
      "dra (13051391, 28)\n"
     ]
    }
   ],
   "source": [
    "test_data_gb6 = pl.read_parquet(GB6_T / ANA / 'idle_decisions.pqt')\n",
    "print('gb6', test_data_gb6.shape)\n",
    "\n",
    "test_data_jet = pl.read_parquet(JET_T / ANA / 'idle_decisions.pqt')\n",
    "print('jet', test_data_jet.shape)\n",
    "\n",
    "test_data_spe = pl.read_parquet(SPE_T / ANA / 'idle_decisions.pqt')\n",
    "print('spe', test_data_spe.shape)\n",
    "\n",
    "test_data_dra = pl.read_parquet(DRA_T / ANA / 'idle_decisions.pqt')\n",
    "print('dra', test_data_dra.shape)"
   ]
  },
  {
   "cell_type": "markdown",
   "id": "6ae1378f-11fe-4935-bece-635ce46b6669",
   "metadata": {},
   "source": [
    "## GB6 validation"
   ]
  },
  {
   "cell_type": "code",
   "execution_count": 62,
   "id": "ea93a5c1-4005-4fb2-acd5-f9015820f565",
   "metadata": {},
   "outputs": [
    {
     "name": "stdout",
     "output_type": "stream",
     "text": [
      "TEO GB6 test set decision accuracy 0.7754104170196475 0.07653098837652957 0.14805859460382292\n",
      "RandomForests GB6 test set decision accuracy 0.8178715869716766\n"
     ]
    }
   ],
   "source": [
    "gb6_test_hits = test_data_gb6.filter(pl.col('state') == pl.col('goal_state')).height / test_data_gb6.height\n",
    "gb6_test_too_deep = test_data_gb6.filter(pl.col('state') > pl.col('goal_state')).height / test_data_gb6.height\n",
    "gb6_test_too_shallow = test_data_gb6.filter(pl.col('state') < pl.col('goal_state')).height / test_data_gb6.height\n",
    "print('TEO GB6 test set decision accuracy', gb6_test_hits, gb6_test_too_deep, gb6_test_too_shallow)\n",
    "\n",
    "X_test_gb6, y_test_gb6 = training_strip(test_data_gb6)\n",
    "print('RandomForests GB6 test set decision accuracy', forest.score(X_test_gb6, y_test_gb6))"
   ]
  },
  {
   "cell_type": "markdown",
   "id": "f474142d-dcac-4644-9687-d012819ad72e",
   "metadata": {},
   "source": [
    "## Speedometer validation"
   ]
  },
  {
   "cell_type": "code",
   "execution_count": 63,
   "id": "ee732327-a3e1-4575-8a4d-61eb45571beb",
   "metadata": {},
   "outputs": [
    {
     "name": "stdout",
     "output_type": "stream",
     "text": [
      "TEO Speedometer test set decision accuracy 0.8284071131817483 0.010008506359401457 0.1615843804588503\n",
      "RandomForests Speedometer test set decision accuracy 0.8330218265571007\n"
     ]
    }
   ],
   "source": [
    "spe_test_hits = test_data_spe.filter(pl.col('state') == pl.col('goal_state')).height / test_data_spe.height\n",
    "spe_test_too_deep = test_data_spe.filter(pl.col('state') > pl.col('goal_state')).height / test_data_spe.height\n",
    "spe_test_too_shallow = test_data_spe.filter(pl.col('state') < pl.col('goal_state')).height / test_data_spe.height\n",
    "print('TEO Speedometer test set decision accuracy', spe_test_hits, spe_test_too_deep, spe_test_too_shallow)\n",
    "\n",
    "X_test_spe, y_test_spe = training_strip(test_data_spe)\n",
    "print('RandomForests Speedometer test set decision accuracy', forest.score(X_test_spe, y_test_spe))"
   ]
  },
  {
   "cell_type": "markdown",
   "id": "3863553a-b7e8-49b1-86f7-5186e3b683b1",
   "metadata": {},
   "source": [
    "## JetNews validation"
   ]
  },
  {
   "cell_type": "code",
   "execution_count": 64,
   "id": "802ad1b6-3571-40ad-aafa-e1a84b6aa3a0",
   "metadata": {},
   "outputs": [
    {
     "name": "stdout",
     "output_type": "stream",
     "text": [
      "TEO JetNews test set decision accuracy 0.7651109637134081 0.03355354652571793 0.2013354897608739\n",
      "RandomForests JetNews test set decision accuracy 0.7792086535680721\n"
     ]
    }
   ],
   "source": [
    "jet_test_hits = test_data_jet.filter(pl.col('state') == pl.col('goal_state')).height / test_data_jet.height\n",
    "jet_test_too_deep = test_data_jet.filter(pl.col('state') > pl.col('goal_state')).height / test_data_jet.height\n",
    "jet_test_too_shallow = test_data_jet.filter(pl.col('state') < pl.col('goal_state')).height / test_data_jet.height\n",
    "print('TEO JetNews test set decision accuracy', jet_test_hits, jet_test_too_deep, jet_test_too_shallow)\n",
    "\n",
    "X_test_jet, y_test_jet = training_strip(test_data_jet)\n",
    "print('RandomForests JetNews test set decision accuracy', forest.score(X_test_jet, y_test_jet))"
   ]
  },
  {
   "cell_type": "markdown",
   "id": "94702ed3-5353-412d-b521-d23e072cade8",
   "metadata": {},
   "source": [
    "## DrArm validation"
   ]
  },
  {
   "cell_type": "code",
   "execution_count": 73,
   "id": "1ac5aa34-b0e4-4caa-9701-a1cc5354d965",
   "metadata": {},
   "outputs": [
    {
     "name": "stdout",
     "output_type": "stream",
     "text": [
      "TEO DrArm test set decision accuracy 0.9502149617615471 0.0009287898891390197 0.048856248349313874\n",
      "RandomForests DrArm decision accuracy 0.9495296708220603\n"
     ]
    }
   ],
   "source": [
    "dra_test_hits = test_data_dra.filter(pl.col('state') == pl.col('goal_state')).height / test_data_dra.height\n",
    "dra_test_too_deep = test_data_dra.filter(pl.col('state') > pl.col('goal_state')).height / test_data_dra.height\n",
    "dra_test_too_shallow = test_data_dra.filter(pl.col('state') < pl.col('goal_state')).height / test_data_dra.height\n",
    "print('TEO DrArm test set decision accuracy', dra_test_hits, dra_test_too_deep, dra_test_too_shallow)\n",
    "\n",
    "X_dra, y_dra = training_strip(test_data_dra)\n",
    "print('RandomForests DrArm decision accuracy', forest.score(X_dra, y_dra))"
   ]
  },
  {
   "cell_type": "markdown",
   "id": "a3ca4f7d-cb7b-4e4b-8dbd-0939a75d9f86",
   "metadata": {},
   "source": [
    "# MLP"
   ]
  },
  {
   "cell_type": "code",
   "execution_count": 32,
   "id": "28ce3421-ec0d-44da-82e5-965cbd943148",
   "metadata": {},
   "outputs": [
    {
     "name": "stdout",
     "output_type": "stream",
     "text": [
      "MLP accuracy on training set: 0.806\n",
      "MLP accuracy on test set: 0.806\n"
     ]
    }
   ],
   "source": [
    "X_mlp, y_mlp = training_strip(idle_data_processed)\n",
    "X_mlp_train, X_mlp_test, y_mlp_train, y_mlp_test = train_test_split(X_mlp, y_mlp)\n",
    "\n",
    "scaler = StandardScaler()  \n",
    "scaler.fit(X_mlp_train)  \n",
    "X_mlp_train = scaler.transform(X_mlp_train)  \n",
    "X_mlp_test = scaler.transform(X_mlp_test)  \n",
    "\n",
    "mlp = MLPClassifier()\n",
    "mlp.fit(X_mlp_train, y_mlp_train)\n",
    "print(\"MLP accuracy on training set: {:.3f}\".format(mlp.score(X_mlp_train, y_mlp_train)))\n",
    "print(\"MLP accuracy on test set: {:.3f}\".format(mlp.score(X_mlp_test, y_mlp_test)))"
   ]
  },
  {
   "cell_type": "code",
   "execution_count": 33,
   "id": "e54cceb8-745c-4ea5-993c-ec02e4546510",
   "metadata": {},
   "outputs": [
    {
     "name": "stdout",
     "output_type": "stream",
     "text": [
      "MLP accuracy on test dataset:  0.805999641777937\n"
     ]
    }
   ],
   "source": [
    "dump(mlp, MODEL_PATH / 'rq_gb6_jet_spe_3m_mlp_808.joblib')\n",
    "\n",
    "print('MLP accuracy on test dataset: ', mlp.score(X_mlp_test, y_mlp_test))"
   ]
  },
  {
   "cell_type": "code",
   "execution_count": null,
   "id": "843e3776-be5d-4900-a041-442fca34b658",
   "metadata": {},
   "outputs": [],
   "source": []
  }
 ],
 "metadata": {
  "kernelspec": {
   "display_name": "Python 3 (ipykernel)",
   "language": "python",
   "name": "python3"
  },
  "language_info": {
   "codemirror_mode": {
    "name": "ipython",
    "version": 3
   },
   "file_extension": ".py",
   "mimetype": "text/x-python",
   "name": "python",
   "nbconvert_exporter": "python",
   "pygments_lexer": "ipython3",
   "version": "3.11.6"
  }
 },
 "nbformat": 4,
 "nbformat_minor": 5
}
