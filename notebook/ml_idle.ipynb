{
 "cells": [
  {
   "cell_type": "markdown",
   "id": "4cef5396-4cb3-4bbe-a752-b2dda165bed3",
   "metadata": {},
   "source": [
    "# Setup"
   ]
  },
  {
   "cell_type": "code",
   "execution_count": 1,
   "id": "fc1fcb41-aa7a-4dd1-98c7-12f42522dcfb",
   "metadata": {},
   "outputs": [],
   "source": [
    "import numpy as np\n",
    "import polars as pl\n",
    "import pandas as pd\n",
    "import plotly.express as px\n",
    "import emlearn\n",
    "from joblib import dump, load\n",
    "from pathlib import Path\n",
    "from lisa.trace import Trace\n",
    "\n",
    "from sklearn.preprocessing import StandardScaler  \n",
    "from sklearn.model_selection import train_test_split, cross_validate, cross_val_score, GridSearchCV\n",
    "from sklearn.ensemble import RandomForestClassifier, ExtraTreesClassifier\n",
    "from sklearn.neural_network import MLPClassifier\n",
    "\n",
    "pl.enable_string_cache()"
   ]
  },
  {
   "cell_type": "code",
   "execution_count": 2,
   "id": "c4128096-853e-4373-a8f8-e8724f9e885a",
   "metadata": {},
   "outputs": [],
   "source": [
    "TRAINING_PATH = Path(\"../training\")\n",
    "TESTING_PATH = Path(\"../testing\")\n",
    "MODEL_PATH = Path(\"../models\")\n",
    "\n",
    "ANA = 'analysis'\n",
    "\n",
    "GB6 = TRAINING_PATH   / 'geekbench_teo_deltatrace_3_1703'\n",
    "GB6_2 = TRAINING_PATH / 'geekbench_teo_deltatrace_3_1803'\n",
    "JET = TRAINING_PATH   / 'jetnews_teo_deltatrace_10_1703'\n",
    "JET_2 = TRAINING_PATH / 'jetnews_teo_deltatrace_10_1803'\n",
    "SPE = TRAINING_PATH   / 'speedometer_teo_deltatrace_10_1703'\n",
    "\n",
    "GB6_T = TESTING_PATH / 'geekbench_teo_deltatrace_val_3_1803'\n",
    "JET_T = TESTING_PATH / 'jetnews_teo_deltatrace_val_10_1803'\n",
    "SPE_T = TESTING_PATH / 'speedometer_teo_deltatrace_val_10_1803'\n",
    "DRA_T = TESTING_PATH / 'drarm_teo_deltatrace_10_1803'\n",
    "\n",
    "GB6_M = TESTING_PATH / 'geekbench_menu_idle_3_1412'\n",
    "JET_M = TESTING_PATH / 'jetnews_menu_idle_10_1412'\n",
    "SPE_M = TESTING_PATH / 'speedometer_menu_idle_10_1412'\n",
    "DRA_M = TESTING_PATH / 'drarm_menu_idle_10_1512'\n",
    "\n",
    "WORKLOADS = [GB6, JET, SPE]"
   ]
  },
  {
   "cell_type": "markdown",
   "id": "3768f536-b0e5-4747-bd13-6016f7aa623f",
   "metadata": {},
   "source": [
    "# CPUIdle baseline accuracy"
   ]
  },
  {
   "cell_type": "code",
   "execution_count": 3,
   "id": "1b3323b0-64be-44cb-aa25-b223f8cd3ebc",
   "metadata": {},
   "outputs": [
    {
     "name": "stdout",
     "output_type": "stream",
     "text": [
      "*** Menu idle accuracy ***\n",
      "\n",
      "Baseline for ../testing/geekbench_menu_idle_3_1412\n",
      "accuracy 0.816481372881879\n",
      "misses 0.18351862711812092\n",
      "too deep 0.1578486990339208 too shallow 0.02566992808420013\n",
      "\n",
      "Baseline for ../testing/jetnews_menu_idle_10_1412\n",
      "accuracy 0.6962507146510999\n",
      "misses 0.30374928534890017\n",
      "too deep 0.2697473562088553 too shallow 0.03400192914004487\n",
      "\n",
      "Baseline for ../testing/speedometer_menu_idle_10_1412\n",
      "accuracy 0.7800750738896148\n",
      "misses 0.21992492611038514\n",
      "too deep 0.18292211339068337 too shallow 0.037002812719701766\n",
      "\n",
      "Baseline for ../testing/drarm_menu_idle_10_1512\n",
      "accuracy 0.8691868299015306\n",
      "misses 0.1308131700984694\n",
      "too deep 0.11541427240054901 too shallow 0.015398897697920407\n",
      "\n",
      "Total menu baseline\n",
      "accuracy 0.8250149988085469\n",
      "misses 0.17498500119145316\n",
      "\n",
      "*** TEO idle accuracy ***\n",
      "Baseline for ../training/geekbench_teo_deltatrace_3_1703\n",
      "accuracy 0.781614066324243\n",
      "misses 0.21838593367575693\n",
      "too deep 0.07305927801201954 too shallow 0.14532665566373737\n",
      "\n",
      "Baseline for ../training/geekbench_teo_deltatrace_3_1803\n",
      "accuracy 0.7803262167811287\n",
      "misses 0.2196737832188713\n",
      "too deep 0.08092675631428836 too shallow 0.13874702690458293\n",
      "\n",
      "Baseline for ../training/jetnews_teo_deltatrace_10_1703\n",
      "accuracy 0.7945433631975234\n",
      "misses 0.20545663680247658\n",
      "too deep 0.029864873284886007 too shallow 0.17559176351759057\n",
      "\n",
      "Baseline for ../training/jetnews_teo_deltatrace_10_1803\n",
      "accuracy 0.7854664539873697\n",
      "misses 0.2145335460126303\n",
      "too deep 0.03063333424037339 too shallow 0.18390021177225693\n",
      "\n",
      "Baseline for ../training/speedometer_teo_deltatrace_10_1703\n",
      "accuracy 0.8340002848091004\n",
      "misses 0.16599971519089965\n",
      "too deep 0.008457420334523798 too shallow 0.15754229485637586\n",
      "\n",
      "Baseline for ../testing/drarm_teo_deltatrace_10_1803\n",
      "accuracy 0.9524127327650914\n",
      "misses 0.047587267234908616\n",
      "too deep 0.0006481462258394633 too shallow 0.046939121009069155\n",
      "\n",
      "Total TEO training baseline\n",
      "accuracy 0.8012826770963564\n",
      "misses 0.1987173229036437\n",
      "\n",
      "Total TEO baseline\n",
      "accuracy 0.8783058747100878\n",
      "misses 0.12169412528991223\n"
     ]
    }
   ],
   "source": [
    "def workload_idle_baseline_accuracy(path):\n",
    "    print('Baseline for', path)\n",
    "    cpu_idle = pl.read_parquet(path / ANA / 'cpu_idle.pqt')\n",
    "    wakeups = cpu_idle.filter(pl.col('state') == -1)\n",
    "    cpu_idle_miss = pl.read_parquet(path / ANA / 'cpu_idle_miss.pqt')\n",
    "    \n",
    "    print('accuracy', 1 - cpu_idle_miss.height / wakeups.height)\n",
    "    print('misses', cpu_idle_miss.height / wakeups.height)\n",
    "    print('too deep', cpu_idle_miss.filter(pl.col('state') == 1).height / wakeups.height, 'too shallow', cpu_idle_miss.filter(pl.col('state') == 0).height / wakeups.height)\n",
    "    print()\n",
    "\n",
    "    return (wakeups.height, cpu_idle_miss.height)\n",
    "\n",
    "print('*** Menu idle accuracy ***\\n')\n",
    "wakeups_gb6_m, misses_gb6_m = workload_idle_baseline_accuracy(GB6_M)\n",
    "wakeups_jet_m, misses_jet_m = workload_idle_baseline_accuracy(JET_M)\n",
    "wakeups_spe_m, misses_spe_m = workload_idle_baseline_accuracy(SPE_M)\n",
    "wakeups_dra_m, misses_dra_m = workload_idle_baseline_accuracy(DRA_M)\n",
    "\n",
    "wakeups_total_m = wakeups_gb6_m + wakeups_jet_m + wakeups_spe_m + wakeups_dra_m\n",
    "misses_total_m = misses_gb6_m + misses_jet_m + misses_spe_m + misses_dra_m\n",
    "\n",
    "print('Total menu baseline')\n",
    "print('accuracy', 1 - misses_total_m / wakeups_total_m)\n",
    "print('misses',  misses_total_m / wakeups_total_m)\n",
    "print()\n",
    "\n",
    "print('*** TEO idle accuracy ***')\n",
    "\n",
    "wakeups_gb6, misses_gb6 = workload_idle_baseline_accuracy(GB6)\n",
    "wakeups_gb6_2, misses_gb6_2 = workload_idle_baseline_accuracy(GB6_2)\n",
    "wakeups_jet, misses_jet = workload_idle_baseline_accuracy(JET)\n",
    "wakeups_jet_2, misses_jet_2 = workload_idle_baseline_accuracy(JET_2)\n",
    "wakeups_spe, misses_spe = workload_idle_baseline_accuracy(SPE)\n",
    "wakeups_dra, misses_dra = workload_idle_baseline_accuracy(DRA_T)\n",
    "\n",
    "wakeups_total_tr = wakeups_gb6 + wakeups_gb6_2 + wakeups_jet + wakeups_jet_2 + wakeups_spe\n",
    "misses_total_tr = misses_gb6 + misses_gb6_2 + misses_jet + misses_jet_2 + misses_spe\n",
    "\n",
    "print('Total TEO training baseline')\n",
    "print('accuracy', 1 - misses_total_tr / wakeups_total_tr)\n",
    "print('misses',  misses_total_tr / wakeups_total_tr)\n",
    "\n",
    "wakeups_total = wakeups_total_tr + wakeups_dra\n",
    "misses_total = misses_total_tr + misses_dra\n",
    "\n",
    "print()\n",
    "\n",
    "print('Total TEO baseline')\n",
    "print('accuracy', 1 - misses_total / wakeups_total)\n",
    "print('misses',  misses_total / wakeups_total)"
   ]
  },
  {
   "cell_type": "markdown",
   "id": "85f74f54-453d-4b3c-86c2-53f91d5661c6",
   "metadata": {},
   "source": [
    "# Training data"
   ]
  },
  {
   "cell_type": "code",
   "execution_count": 4,
   "id": "6df88d90-84bf-4274-b331-103d94df8c33",
   "metadata": {},
   "outputs": [
    {
     "name": "stdout",
     "output_type": "stream",
     "text": [
      "gb6 (3377638, 23)\n",
      "jet (5287418, 23)\n",
      "spe (3825222, 23)\n",
      "total (9000009, 23)\n"
     ]
    },
    {
     "data": {
      "text/html": [
       "<div><style>\n",
       ".dataframe > thead > tr,\n",
       ".dataframe > tbody > tr {\n",
       "  text-align: right;\n",
       "  white-space: pre-wrap;\n",
       "}\n",
       "</style>\n",
       "<small>shape: (5, 23)</small><table border=\"1\" class=\"dataframe\"><thead><tr><th>sleep_id</th><th>cpu</th><th>sleep_length</th><th>time_span</th><th>measured</th><th>util</th><th>max_cap</th><th>s0hit</th><th>s0int</th><th>s0rec</th><th>s1hit</th><th>rq_cpu_time</th><th>ttwu_count</th><th>sched_count</th><th>yld_count</th><th>timer_state</th><th>duration_state</th><th>state</th><th>hit</th><th>goal_state</th><th>iteration</th><th>kernel</th><th>wa_path</th></tr><tr><td>i64</td><td>i64</td><td>i64</td><td>i64</td><td>i64</td><td>i64</td><td>i64</td><td>i64</td><td>i64</td><td>i64</td><td>i64</td><td>i64</td><td>i64</td><td>i64</td><td>i64</td><td>i64</td><td>i64</td><td>i64</td><td>i64</td><td>i32</td><td>i32</td><td>str</td><td>str</td></tr></thead><tbody><tr><td>60944</td><td>3</td><td>14861178</td><td>302572</td><td>271066</td><td>6</td><td>160</td><td>1257</td><td>1092</td><td>1</td><td>5853</td><td>470744</td><td>1</td><td>2</td><td>0</td><td>1</td><td>0</td><td>0</td><td>0</td><td>0</td><td>1</td><td>&quot;6.3.0-mainline…</td><td>&quot;geekbench_teo_…</td></tr><tr><td>60945</td><td>3</td><td>14490857</td><td>27588</td><td>386</td><td>7</td><td>160</td><td>1100</td><td>1980</td><td>1</td><td>5122</td><td>57373</td><td>0</td><td>4</td><td>0</td><td>1</td><td>0</td><td>0</td><td>0</td><td>0</td><td>1</td><td>&quot;6.3.0-mainline…</td><td>&quot;geekbench_teo_…</td></tr><tr><td>60946</td><td>3</td><td>14058403</td><td>420044</td><td>387765</td><td>7</td><td>160</td><td>963</td><td>2757</td><td>2</td><td>4482</td><td>392415</td><td>2</td><td>2</td><td>0</td><td>1</td><td>0</td><td>0</td><td>0</td><td>0</td><td>1</td><td>&quot;6.3.0-mainline…</td><td>&quot;geekbench_teo_…</td></tr><tr><td>60947</td><td>3</td><td>13575289</td><td>126749</td><td>101469</td><td>7</td><td>160</td><td>843</td><td>3437</td><td>3</td><td>3922</td><td>56885</td><td>1</td><td>2</td><td>0</td><td>1</td><td>0</td><td>0</td><td>0</td><td>0</td><td>1</td><td>&quot;6.3.0-mainline…</td><td>&quot;geekbench_teo_…</td></tr><tr><td>60948</td><td>3</td><td>13401298</td><td>141114</td><td>115711</td><td>7</td><td>160</td><td>738</td><td>4032</td><td>4</td><td>3432</td><td>40893</td><td>1</td><td>2</td><td>0</td><td>1</td><td>0</td><td>0</td><td>0</td><td>0</td><td>1</td><td>&quot;6.3.0-mainline…</td><td>&quot;geekbench_teo_…</td></tr></tbody></table></div>"
      ],
      "text/plain": [
       "shape: (5, 23)\n",
       "┌──────────┬─────┬─────────────┬───────────┬───┬────────────┬───────────┬─────────────┬────────────┐\n",
       "│ sleep_id ┆ cpu ┆ sleep_lengt ┆ time_span ┆ … ┆ goal_state ┆ iteration ┆ kernel      ┆ wa_path    │\n",
       "│ ---      ┆ --- ┆ h           ┆ ---       ┆   ┆ ---        ┆ ---       ┆ ---         ┆ ---        │\n",
       "│ i64      ┆ i64 ┆ ---         ┆ i64       ┆   ┆ i32        ┆ i32       ┆ str         ┆ str        │\n",
       "│          ┆     ┆ i64         ┆           ┆   ┆            ┆           ┆             ┆            │\n",
       "╞══════════╪═════╪═════════════╪═══════════╪═══╪════════════╪═══════════╪═════════════╪════════════╡\n",
       "│ 60944    ┆ 3   ┆ 14861178    ┆ 302572    ┆ … ┆ 0          ┆ 1         ┆ 6.3.0-mainl ┆ geekbench_ │\n",
       "│          ┆     ┆             ┆           ┆   ┆            ┆           ┆ ine-g664fb1 ┆ teo_deltat │\n",
       "│          ┆     ┆             ┆           ┆   ┆            ┆           ┆ e13797-dir… ┆ race_3_170 │\n",
       "│          ┆     ┆             ┆           ┆   ┆            ┆           ┆             ┆ 3          │\n",
       "│ 60945    ┆ 3   ┆ 14490857    ┆ 27588     ┆ … ┆ 0          ┆ 1         ┆ 6.3.0-mainl ┆ geekbench_ │\n",
       "│          ┆     ┆             ┆           ┆   ┆            ┆           ┆ ine-g664fb1 ┆ teo_deltat │\n",
       "│          ┆     ┆             ┆           ┆   ┆            ┆           ┆ e13797-dir… ┆ race_3_170 │\n",
       "│          ┆     ┆             ┆           ┆   ┆            ┆           ┆             ┆ 3          │\n",
       "│ 60946    ┆ 3   ┆ 14058403    ┆ 420044    ┆ … ┆ 0          ┆ 1         ┆ 6.3.0-mainl ┆ geekbench_ │\n",
       "│          ┆     ┆             ┆           ┆   ┆            ┆           ┆ ine-g664fb1 ┆ teo_deltat │\n",
       "│          ┆     ┆             ┆           ┆   ┆            ┆           ┆ e13797-dir… ┆ race_3_170 │\n",
       "│          ┆     ┆             ┆           ┆   ┆            ┆           ┆             ┆ 3          │\n",
       "│ 60947    ┆ 3   ┆ 13575289    ┆ 126749    ┆ … ┆ 0          ┆ 1         ┆ 6.3.0-mainl ┆ geekbench_ │\n",
       "│          ┆     ┆             ┆           ┆   ┆            ┆           ┆ ine-g664fb1 ┆ teo_deltat │\n",
       "│          ┆     ┆             ┆           ┆   ┆            ┆           ┆ e13797-dir… ┆ race_3_170 │\n",
       "│          ┆     ┆             ┆           ┆   ┆            ┆           ┆             ┆ 3          │\n",
       "│ 60948    ┆ 3   ┆ 13401298    ┆ 141114    ┆ … ┆ 0          ┆ 1         ┆ 6.3.0-mainl ┆ geekbench_ │\n",
       "│          ┆     ┆             ┆           ┆   ┆            ┆           ┆ ine-g664fb1 ┆ teo_deltat │\n",
       "│          ┆     ┆             ┆           ┆   ┆            ┆           ┆ e13797-dir… ┆ race_3_170 │\n",
       "│          ┆     ┆             ┆           ┆   ┆            ┆           ┆             ┆ 3          │\n",
       "└──────────┴─────┴─────────────┴───────────┴───┴────────────┴───────────┴─────────────┴────────────┘"
      ]
     },
     "execution_count": 4,
     "metadata": {},
     "output_type": "execute_result"
    }
   ],
   "source": [
    "SLEEP_COUNT = 3_000_003\n",
    "\n",
    "idle_data_gb6 = pl.concat([\n",
    "    pl.read_parquet(GB6 / ANA / 'idle_decisions.pqt'),\n",
    "    pl.read_parquet(GB6_2 / ANA / 'idle_decisions.pqt')\n",
    "])\n",
    "print('gb6', idle_data_gb6.shape)\n",
    "\n",
    "idle_data_jet = pl.concat([\n",
    "  pl.read_parquet(JET / ANA / 'idle_decisions.pqt'),\n",
    "  pl.read_parquet(JET_2 / ANA / 'idle_decisions.pqt')\n",
    "])\n",
    "print('jet', idle_data_jet.shape)\n",
    "\n",
    "idle_data_spe = pl.read_parquet(SPE / ANA / 'idle_decisions.pqt')\n",
    "print('spe', idle_data_spe.shape)\n",
    "\n",
    "idle_data = pl.concat([idle_data_gb6[:SLEEP_COUNT], idle_data_jet[:SLEEP_COUNT], idle_data_spe[:SLEEP_COUNT]])\n",
    "print('total', idle_data.shape)\n",
    "idle_data.head()"
   ]
  },
  {
   "cell_type": "markdown",
   "id": "ebb83e5f-7414-4037-b9b9-daedc2529da3",
   "metadata": {},
   "source": [
    "Variants:\n",
    "* 6f -> sleep_length, util, s1hit, s0int, yld_count, sched_count\n",
    "* 7f -> sleep_length, util, max_cap s1hit, s0int, yld_count, sched_count\n",
    "* 9f -> sleep_length, util, max_cap, s0hit, s0int, s0rec, s1hit, rq_cpu_time, ttwu_count\n",
    "\n",
    "Importances  \n",
    "s1hit           0.056520  \n",
    "sleep_length    0.037802  \n",
    "s0int           0.016370  \n",
    "util            0.007691  \n",
    "ttwu_count      0.003558  \n",
    "rq_cpu_time     0.003029  \n",
    "max_cap         0.002124  \n",
    "sched_count     0.001877  \n",
    "s0hit           0.000708  \n",
    "yld_count       0.000357  "
   ]
  },
  {
   "cell_type": "code",
   "execution_count": 5,
   "id": "5a7f8b26-fbb2-46af-8460-7a8e8e7e9f52",
   "metadata": {},
   "outputs": [
    {
     "name": "stdout",
     "output_type": "stream",
     "text": [
      "TEO decision accuracy 0.7949319828457949\n",
      "(9000009, 7) (9000009,)\n"
     ]
    },
    {
     "data": {
      "text/html": [
       "<div>\n",
       "<style scoped>\n",
       "    .dataframe tbody tr th:only-of-type {\n",
       "        vertical-align: middle;\n",
       "    }\n",
       "\n",
       "    .dataframe tbody tr th {\n",
       "        vertical-align: top;\n",
       "    }\n",
       "\n",
       "    .dataframe thead th {\n",
       "        text-align: right;\n",
       "    }\n",
       "</style>\n",
       "<table border=\"1\" class=\"dataframe\">\n",
       "  <thead>\n",
       "    <tr style=\"text-align: right;\">\n",
       "      <th></th>\n",
       "      <th>sleep_length</th>\n",
       "      <th>util</th>\n",
       "      <th>max_cap</th>\n",
       "      <th>s0int</th>\n",
       "      <th>s1hit</th>\n",
       "      <th>rq_cpu_time</th>\n",
       "      <th>ttwu_count</th>\n",
       "    </tr>\n",
       "  </thead>\n",
       "  <tbody>\n",
       "    <tr>\n",
       "      <th>0</th>\n",
       "      <td>14861178</td>\n",
       "      <td>6</td>\n",
       "      <td>160</td>\n",
       "      <td>1092</td>\n",
       "      <td>5853</td>\n",
       "      <td>470744</td>\n",
       "      <td>1</td>\n",
       "    </tr>\n",
       "    <tr>\n",
       "      <th>1</th>\n",
       "      <td>14490857</td>\n",
       "      <td>7</td>\n",
       "      <td>160</td>\n",
       "      <td>1980</td>\n",
       "      <td>5122</td>\n",
       "      <td>57373</td>\n",
       "      <td>0</td>\n",
       "    </tr>\n",
       "    <tr>\n",
       "      <th>2</th>\n",
       "      <td>14058403</td>\n",
       "      <td>7</td>\n",
       "      <td>160</td>\n",
       "      <td>2757</td>\n",
       "      <td>4482</td>\n",
       "      <td>392415</td>\n",
       "      <td>2</td>\n",
       "    </tr>\n",
       "    <tr>\n",
       "      <th>3</th>\n",
       "      <td>13575289</td>\n",
       "      <td>7</td>\n",
       "      <td>160</td>\n",
       "      <td>3437</td>\n",
       "      <td>3922</td>\n",
       "      <td>56885</td>\n",
       "      <td>1</td>\n",
       "    </tr>\n",
       "    <tr>\n",
       "      <th>4</th>\n",
       "      <td>13401298</td>\n",
       "      <td>7</td>\n",
       "      <td>160</td>\n",
       "      <td>4032</td>\n",
       "      <td>3432</td>\n",
       "      <td>40893</td>\n",
       "      <td>1</td>\n",
       "    </tr>\n",
       "    <tr>\n",
       "      <th>5</th>\n",
       "      <td>13224459</td>\n",
       "      <td>7</td>\n",
       "      <td>160</td>\n",
       "      <td>4552</td>\n",
       "      <td>3003</td>\n",
       "      <td>30965</td>\n",
       "      <td>0</td>\n",
       "    </tr>\n",
       "    <tr>\n",
       "      <th>6</th>\n",
       "      <td>2891614</td>\n",
       "      <td>6</td>\n",
       "      <td>160</td>\n",
       "      <td>3983</td>\n",
       "      <td>3652</td>\n",
       "      <td>261637</td>\n",
       "      <td>0</td>\n",
       "    </tr>\n",
       "    <tr>\n",
       "      <th>7</th>\n",
       "      <td>16551607</td>\n",
       "      <td>6</td>\n",
       "      <td>160</td>\n",
       "      <td>3486</td>\n",
       "      <td>4220</td>\n",
       "      <td>0</td>\n",
       "      <td>1</td>\n",
       "    </tr>\n",
       "    <tr>\n",
       "      <th>8</th>\n",
       "      <td>10863985</td>\n",
       "      <td>5</td>\n",
       "      <td>160</td>\n",
       "      <td>3051</td>\n",
       "      <td>4717</td>\n",
       "      <td>648275</td>\n",
       "      <td>2</td>\n",
       "    </tr>\n",
       "    <tr>\n",
       "      <th>9</th>\n",
       "      <td>9510917</td>\n",
       "      <td>5</td>\n",
       "      <td>160</td>\n",
       "      <td>3694</td>\n",
       "      <td>4128</td>\n",
       "      <td>258952</td>\n",
       "      <td>2</td>\n",
       "    </tr>\n",
       "  </tbody>\n",
       "</table>\n",
       "</div>"
      ],
      "text/plain": [
       "   sleep_length  util  max_cap  s0int  s1hit  rq_cpu_time  ttwu_count\n",
       "0      14861178     6      160   1092   5853       470744           1\n",
       "1      14490857     7      160   1980   5122        57373           0\n",
       "2      14058403     7      160   2757   4482       392415           2\n",
       "3      13575289     7      160   3437   3922        56885           1\n",
       "4      13401298     7      160   4032   3432        40893           1\n",
       "5      13224459     7      160   4552   3003        30965           0\n",
       "6       2891614     6      160   3983   3652       261637           0\n",
       "7      16551607     6      160   3486   4220            0           1\n",
       "8      10863985     5      160   3051   4717       648275           2\n",
       "9       9510917     5      160   3694   4128       258952           2"
      ]
     },
     "metadata": {},
     "output_type": "display_data"
    },
    {
     "data": {
      "text/plain": [
       "0    0\n",
       "1    0\n",
       "2    0\n",
       "3    0\n",
       "4    0\n",
       "5    1\n",
       "6    1\n",
       "7    1\n",
       "8    0\n",
       "9    0\n",
       "Name: goal_state, dtype: int32"
      ]
     },
     "execution_count": 5,
     "metadata": {},
     "output_type": "execute_result"
    }
   ],
   "source": [
    "def training_strip(df):\n",
    "    df = df.drop([\n",
    "        'sleep_id', 'time_span', 'measured', 'state', 'hit', 'timer_state', 'duration_state', 'cpu', 'iteration', 'kernel', 'wa_path',\n",
    "        's0rec', 's1rec', 'yld_count', 's0hit', 'sched_count'\n",
    "    ]).to_pandas()\n",
    "    X = df.drop(['goal_state'], axis=1)\n",
    "    y = df['goal_state']\n",
    "    return (X, y)\n",
    "\n",
    "print('TEO decision accuracy', 1 - idle_data.filter(pl.col('state') != pl.col('goal_state')).height / idle_data.height)\n",
    "X, y = training_strip(idle_data)\n",
    "# Convert feature columns to int32\n",
    "X = X.astype({col:'uint32' for col in X.columns})\n",
    "print(X.shape, y.shape)\n",
    "display(X.head(10))\n",
    "y.head(10)"
   ]
  },
  {
   "cell_type": "markdown",
   "id": "146714df-ffa4-4b8a-9081-e366f276847a",
   "metadata": {},
   "source": [
    "# RandomForest"
   ]
  },
  {
   "cell_type": "markdown",
   "id": "8b4e2490-554b-4111-859b-c5771163ee92",
   "metadata": {},
   "source": [
    "## Train-test split"
   ]
  },
  {
   "cell_type": "code",
   "execution_count": 6,
   "id": "b1c4c3c1-d96d-4c28-a6b1-176caeab7e78",
   "metadata": {},
   "outputs": [],
   "source": [
    "X_train, X_test, y_train, y_test = train_test_split(X, y)"
   ]
  },
  {
   "cell_type": "code",
   "execution_count": 33,
   "id": "bd3057c0-d0fe-4326-b002-226addb8e957",
   "metadata": {},
   "outputs": [
    {
     "name": "stdout",
     "output_type": "stream",
     "text": [
      "RandomForest accuracy on full set: 0.809\n",
      "RandomForest accuracy on training set: 0.809\n",
      "RandomForest accuracy on test set: 0.809\n"
     ]
    }
   ],
   "source": [
    "base_forest = RandomForestClassifier(n_estimators=5, n_jobs=8, max_depth=8)\n",
    "base_forest.fit(X_train, y_train)\n",
    "print(\"RandomForest accuracy on full set: {:.3f}\".format(base_forest.score(X, y)))\n",
    "print(\"RandomForest accuracy on training set: {:.3f}\".format(base_forest.score(X_train, y_train)))\n",
    "print(\"RandomForest accuracy on test set: {:.3f}\".format(base_forest.score(X_test, y_test)))"
   ]
  },
  {
   "cell_type": "markdown",
   "id": "031cc70e-2dd3-42ab-80f4-67e0fdff9c9f",
   "metadata": {},
   "source": [
    "## Grid Search CV"
   ]
  },
  {
   "cell_type": "code",
   "execution_count": 173,
   "id": "cd0065f3-90aa-4765-b844-ae15d5fec2eb",
   "metadata": {},
   "outputs": [
    {
     "name": "stdout",
     "output_type": "stream",
     "text": [
      "0.8092571790860735 [0.80795676 0.80904269 0.80907158 0.80943484 0.8097261  0.80973958\n",
      " 0.81117335 0.81093024 0.81058165 0.80741484 0.80775424 0.80789573\n",
      " 0.8091821  0.80912832 0.80962002 0.81028224 0.8101618  0.8104658\n",
      " 0.80762476 0.80772758 0.80798313 0.80884106 0.80875854 0.80905661\n",
      " 0.81017824 0.80998254 0.8102295 ]\n",
      "Best RandomForest accuracy on full dataset 0.8113351886648114\n",
      "Best RandomForest accuracy on test dataset 0.8108122522503304\n"
     ]
    }
   ],
   "source": [
    "parameters = {'n_estimators': [5, 6, 7], 'max_depth': [8, 9, 10], 'criterion': ('gini', 'entropy', 'log_loss')}\n",
    "clf = GridSearchCV(RandomForestClassifier(n_jobs=8), parameters)\n",
    "clf.fit(X_train, y_train)\n",
    "print(clf.cv_results_['mean_test_score'].mean(), clf.cv_results_['mean_test_score'])\n",
    "print('Best RandomForest accuracy on full dataset', clf.best_estimator_.score(X, y))\n",
    "print('Best RandomForest accuracy on test dataset', clf.best_estimator_.score(X_test, y_test))"
   ]
  },
  {
   "cell_type": "code",
   "execution_count": 34,
   "id": "d5b48af8-59e5-4699-9a63-c5038e551f3e",
   "metadata": {},
   "outputs": [
    {
     "data": {
      "text/html": [
       "<style>#sk-container-id-4 {\n",
       "  /* Definition of color scheme common for light and dark mode */\n",
       "  --sklearn-color-text: black;\n",
       "  --sklearn-color-line: gray;\n",
       "  /* Definition of color scheme for unfitted estimators */\n",
       "  --sklearn-color-unfitted-level-0: #fff5e6;\n",
       "  --sklearn-color-unfitted-level-1: #f6e4d2;\n",
       "  --sklearn-color-unfitted-level-2: #ffe0b3;\n",
       "  --sklearn-color-unfitted-level-3: chocolate;\n",
       "  /* Definition of color scheme for fitted estimators */\n",
       "  --sklearn-color-fitted-level-0: #f0f8ff;\n",
       "  --sklearn-color-fitted-level-1: #d4ebff;\n",
       "  --sklearn-color-fitted-level-2: #b3dbfd;\n",
       "  --sklearn-color-fitted-level-3: cornflowerblue;\n",
       "\n",
       "  /* Specific color for light theme */\n",
       "  --sklearn-color-text-on-default-background: var(--sg-text-color, var(--theme-code-foreground, var(--jp-content-font-color1, black)));\n",
       "  --sklearn-color-background: var(--sg-background-color, var(--theme-background, var(--jp-layout-color0, white)));\n",
       "  --sklearn-color-border-box: var(--sg-text-color, var(--theme-code-foreground, var(--jp-content-font-color1, black)));\n",
       "  --sklearn-color-icon: #696969;\n",
       "\n",
       "  @media (prefers-color-scheme: dark) {\n",
       "    /* Redefinition of color scheme for dark theme */\n",
       "    --sklearn-color-text-on-default-background: var(--sg-text-color, var(--theme-code-foreground, var(--jp-content-font-color1, white)));\n",
       "    --sklearn-color-background: var(--sg-background-color, var(--theme-background, var(--jp-layout-color0, #111)));\n",
       "    --sklearn-color-border-box: var(--sg-text-color, var(--theme-code-foreground, var(--jp-content-font-color1, white)));\n",
       "    --sklearn-color-icon: #878787;\n",
       "  }\n",
       "}\n",
       "\n",
       "#sk-container-id-4 {\n",
       "  color: var(--sklearn-color-text);\n",
       "}\n",
       "\n",
       "#sk-container-id-4 pre {\n",
       "  padding: 0;\n",
       "}\n",
       "\n",
       "#sk-container-id-4 input.sk-hidden--visually {\n",
       "  border: 0;\n",
       "  clip: rect(1px 1px 1px 1px);\n",
       "  clip: rect(1px, 1px, 1px, 1px);\n",
       "  height: 1px;\n",
       "  margin: -1px;\n",
       "  overflow: hidden;\n",
       "  padding: 0;\n",
       "  position: absolute;\n",
       "  width: 1px;\n",
       "}\n",
       "\n",
       "#sk-container-id-4 div.sk-dashed-wrapped {\n",
       "  border: 1px dashed var(--sklearn-color-line);\n",
       "  margin: 0 0.4em 0.5em 0.4em;\n",
       "  box-sizing: border-box;\n",
       "  padding-bottom: 0.4em;\n",
       "  background-color: var(--sklearn-color-background);\n",
       "}\n",
       "\n",
       "#sk-container-id-4 div.sk-container {\n",
       "  /* jupyter's `normalize.less` sets `[hidden] { display: none; }`\n",
       "     but bootstrap.min.css set `[hidden] { display: none !important; }`\n",
       "     so we also need the `!important` here to be able to override the\n",
       "     default hidden behavior on the sphinx rendered scikit-learn.org.\n",
       "     See: https://github.com/scikit-learn/scikit-learn/issues/21755 */\n",
       "  display: inline-block !important;\n",
       "  position: relative;\n",
       "}\n",
       "\n",
       "#sk-container-id-4 div.sk-text-repr-fallback {\n",
       "  display: none;\n",
       "}\n",
       "\n",
       "div.sk-parallel-item,\n",
       "div.sk-serial,\n",
       "div.sk-item {\n",
       "  /* draw centered vertical line to link estimators */\n",
       "  background-image: linear-gradient(var(--sklearn-color-text-on-default-background), var(--sklearn-color-text-on-default-background));\n",
       "  background-size: 2px 100%;\n",
       "  background-repeat: no-repeat;\n",
       "  background-position: center center;\n",
       "}\n",
       "\n",
       "/* Parallel-specific style estimator block */\n",
       "\n",
       "#sk-container-id-4 div.sk-parallel-item::after {\n",
       "  content: \"\";\n",
       "  width: 100%;\n",
       "  border-bottom: 2px solid var(--sklearn-color-text-on-default-background);\n",
       "  flex-grow: 1;\n",
       "}\n",
       "\n",
       "#sk-container-id-4 div.sk-parallel {\n",
       "  display: flex;\n",
       "  align-items: stretch;\n",
       "  justify-content: center;\n",
       "  background-color: var(--sklearn-color-background);\n",
       "  position: relative;\n",
       "}\n",
       "\n",
       "#sk-container-id-4 div.sk-parallel-item {\n",
       "  display: flex;\n",
       "  flex-direction: column;\n",
       "}\n",
       "\n",
       "#sk-container-id-4 div.sk-parallel-item:first-child::after {\n",
       "  align-self: flex-end;\n",
       "  width: 50%;\n",
       "}\n",
       "\n",
       "#sk-container-id-4 div.sk-parallel-item:last-child::after {\n",
       "  align-self: flex-start;\n",
       "  width: 50%;\n",
       "}\n",
       "\n",
       "#sk-container-id-4 div.sk-parallel-item:only-child::after {\n",
       "  width: 0;\n",
       "}\n",
       "\n",
       "/* Serial-specific style estimator block */\n",
       "\n",
       "#sk-container-id-4 div.sk-serial {\n",
       "  display: flex;\n",
       "  flex-direction: column;\n",
       "  align-items: center;\n",
       "  background-color: var(--sklearn-color-background);\n",
       "  padding-right: 1em;\n",
       "  padding-left: 1em;\n",
       "}\n",
       "\n",
       "\n",
       "/* Toggleable style: style used for estimator/Pipeline/ColumnTransformer box that is\n",
       "clickable and can be expanded/collapsed.\n",
       "- Pipeline and ColumnTransformer use this feature and define the default style\n",
       "- Estimators will overwrite some part of the style using the `sk-estimator` class\n",
       "*/\n",
       "\n",
       "/* Pipeline and ColumnTransformer style (default) */\n",
       "\n",
       "#sk-container-id-4 div.sk-toggleable {\n",
       "  /* Default theme specific background. It is overwritten whether we have a\n",
       "  specific estimator or a Pipeline/ColumnTransformer */\n",
       "  background-color: var(--sklearn-color-background);\n",
       "}\n",
       "\n",
       "/* Toggleable label */\n",
       "#sk-container-id-4 label.sk-toggleable__label {\n",
       "  cursor: pointer;\n",
       "  display: block;\n",
       "  width: 100%;\n",
       "  margin-bottom: 0;\n",
       "  padding: 0.5em;\n",
       "  box-sizing: border-box;\n",
       "  text-align: center;\n",
       "}\n",
       "\n",
       "#sk-container-id-4 label.sk-toggleable__label-arrow:before {\n",
       "  /* Arrow on the left of the label */\n",
       "  content: \"▸\";\n",
       "  float: left;\n",
       "  margin-right: 0.25em;\n",
       "  color: var(--sklearn-color-icon);\n",
       "}\n",
       "\n",
       "#sk-container-id-4 label.sk-toggleable__label-arrow:hover:before {\n",
       "  color: var(--sklearn-color-text);\n",
       "}\n",
       "\n",
       "/* Toggleable content - dropdown */\n",
       "\n",
       "#sk-container-id-4 div.sk-toggleable__content {\n",
       "  max-height: 0;\n",
       "  max-width: 0;\n",
       "  overflow: hidden;\n",
       "  text-align: left;\n",
       "  /* unfitted */\n",
       "  background-color: var(--sklearn-color-unfitted-level-0);\n",
       "}\n",
       "\n",
       "#sk-container-id-4 div.sk-toggleable__content.fitted {\n",
       "  /* fitted */\n",
       "  background-color: var(--sklearn-color-fitted-level-0);\n",
       "}\n",
       "\n",
       "#sk-container-id-4 div.sk-toggleable__content pre {\n",
       "  margin: 0.2em;\n",
       "  border-radius: 0.25em;\n",
       "  color: var(--sklearn-color-text);\n",
       "  /* unfitted */\n",
       "  background-color: var(--sklearn-color-unfitted-level-0);\n",
       "}\n",
       "\n",
       "#sk-container-id-4 div.sk-toggleable__content.fitted pre {\n",
       "  /* unfitted */\n",
       "  background-color: var(--sklearn-color-fitted-level-0);\n",
       "}\n",
       "\n",
       "#sk-container-id-4 input.sk-toggleable__control:checked~div.sk-toggleable__content {\n",
       "  /* Expand drop-down */\n",
       "  max-height: 200px;\n",
       "  max-width: 100%;\n",
       "  overflow: auto;\n",
       "}\n",
       "\n",
       "#sk-container-id-4 input.sk-toggleable__control:checked~label.sk-toggleable__label-arrow:before {\n",
       "  content: \"▾\";\n",
       "}\n",
       "\n",
       "/* Pipeline/ColumnTransformer-specific style */\n",
       "\n",
       "#sk-container-id-4 div.sk-label input.sk-toggleable__control:checked~label.sk-toggleable__label {\n",
       "  color: var(--sklearn-color-text);\n",
       "  background-color: var(--sklearn-color-unfitted-level-2);\n",
       "}\n",
       "\n",
       "#sk-container-id-4 div.sk-label.fitted input.sk-toggleable__control:checked~label.sk-toggleable__label {\n",
       "  background-color: var(--sklearn-color-fitted-level-2);\n",
       "}\n",
       "\n",
       "/* Estimator-specific style */\n",
       "\n",
       "/* Colorize estimator box */\n",
       "#sk-container-id-4 div.sk-estimator input.sk-toggleable__control:checked~label.sk-toggleable__label {\n",
       "  /* unfitted */\n",
       "  background-color: var(--sklearn-color-unfitted-level-2);\n",
       "}\n",
       "\n",
       "#sk-container-id-4 div.sk-estimator.fitted input.sk-toggleable__control:checked~label.sk-toggleable__label {\n",
       "  /* fitted */\n",
       "  background-color: var(--sklearn-color-fitted-level-2);\n",
       "}\n",
       "\n",
       "#sk-container-id-4 div.sk-label label.sk-toggleable__label,\n",
       "#sk-container-id-4 div.sk-label label {\n",
       "  /* The background is the default theme color */\n",
       "  color: var(--sklearn-color-text-on-default-background);\n",
       "}\n",
       "\n",
       "/* On hover, darken the color of the background */\n",
       "#sk-container-id-4 div.sk-label:hover label.sk-toggleable__label {\n",
       "  color: var(--sklearn-color-text);\n",
       "  background-color: var(--sklearn-color-unfitted-level-2);\n",
       "}\n",
       "\n",
       "/* Label box, darken color on hover, fitted */\n",
       "#sk-container-id-4 div.sk-label.fitted:hover label.sk-toggleable__label.fitted {\n",
       "  color: var(--sklearn-color-text);\n",
       "  background-color: var(--sklearn-color-fitted-level-2);\n",
       "}\n",
       "\n",
       "/* Estimator label */\n",
       "\n",
       "#sk-container-id-4 div.sk-label label {\n",
       "  font-family: monospace;\n",
       "  font-weight: bold;\n",
       "  display: inline-block;\n",
       "  line-height: 1.2em;\n",
       "}\n",
       "\n",
       "#sk-container-id-4 div.sk-label-container {\n",
       "  text-align: center;\n",
       "}\n",
       "\n",
       "/* Estimator-specific */\n",
       "#sk-container-id-4 div.sk-estimator {\n",
       "  font-family: monospace;\n",
       "  border: 1px dotted var(--sklearn-color-border-box);\n",
       "  border-radius: 0.25em;\n",
       "  box-sizing: border-box;\n",
       "  margin-bottom: 0.5em;\n",
       "  /* unfitted */\n",
       "  background-color: var(--sklearn-color-unfitted-level-0);\n",
       "}\n",
       "\n",
       "#sk-container-id-4 div.sk-estimator.fitted {\n",
       "  /* fitted */\n",
       "  background-color: var(--sklearn-color-fitted-level-0);\n",
       "}\n",
       "\n",
       "/* on hover */\n",
       "#sk-container-id-4 div.sk-estimator:hover {\n",
       "  /* unfitted */\n",
       "  background-color: var(--sklearn-color-unfitted-level-2);\n",
       "}\n",
       "\n",
       "#sk-container-id-4 div.sk-estimator.fitted:hover {\n",
       "  /* fitted */\n",
       "  background-color: var(--sklearn-color-fitted-level-2);\n",
       "}\n",
       "\n",
       "/* Specification for estimator info (e.g. \"i\" and \"?\") */\n",
       "\n",
       "/* Common style for \"i\" and \"?\" */\n",
       "\n",
       ".sk-estimator-doc-link,\n",
       "a:link.sk-estimator-doc-link,\n",
       "a:visited.sk-estimator-doc-link {\n",
       "  float: right;\n",
       "  font-size: smaller;\n",
       "  line-height: 1em;\n",
       "  font-family: monospace;\n",
       "  background-color: var(--sklearn-color-background);\n",
       "  border-radius: 1em;\n",
       "  height: 1em;\n",
       "  width: 1em;\n",
       "  text-decoration: none !important;\n",
       "  margin-left: 1ex;\n",
       "  /* unfitted */\n",
       "  border: var(--sklearn-color-unfitted-level-1) 1pt solid;\n",
       "  color: var(--sklearn-color-unfitted-level-1);\n",
       "}\n",
       "\n",
       ".sk-estimator-doc-link.fitted,\n",
       "a:link.sk-estimator-doc-link.fitted,\n",
       "a:visited.sk-estimator-doc-link.fitted {\n",
       "  /* fitted */\n",
       "  border: var(--sklearn-color-fitted-level-1) 1pt solid;\n",
       "  color: var(--sklearn-color-fitted-level-1);\n",
       "}\n",
       "\n",
       "/* On hover */\n",
       "div.sk-estimator:hover .sk-estimator-doc-link:hover,\n",
       ".sk-estimator-doc-link:hover,\n",
       "div.sk-label-container:hover .sk-estimator-doc-link:hover,\n",
       ".sk-estimator-doc-link:hover {\n",
       "  /* unfitted */\n",
       "  background-color: var(--sklearn-color-unfitted-level-3);\n",
       "  color: var(--sklearn-color-background);\n",
       "  text-decoration: none;\n",
       "}\n",
       "\n",
       "div.sk-estimator.fitted:hover .sk-estimator-doc-link.fitted:hover,\n",
       ".sk-estimator-doc-link.fitted:hover,\n",
       "div.sk-label-container:hover .sk-estimator-doc-link.fitted:hover,\n",
       ".sk-estimator-doc-link.fitted:hover {\n",
       "  /* fitted */\n",
       "  background-color: var(--sklearn-color-fitted-level-3);\n",
       "  color: var(--sklearn-color-background);\n",
       "  text-decoration: none;\n",
       "}\n",
       "\n",
       "/* Span, style for the box shown on hovering the info icon */\n",
       ".sk-estimator-doc-link span {\n",
       "  display: none;\n",
       "  z-index: 9999;\n",
       "  position: relative;\n",
       "  font-weight: normal;\n",
       "  right: .2ex;\n",
       "  padding: .5ex;\n",
       "  margin: .5ex;\n",
       "  width: min-content;\n",
       "  min-width: 20ex;\n",
       "  max-width: 50ex;\n",
       "  color: var(--sklearn-color-text);\n",
       "  box-shadow: 2pt 2pt 4pt #999;\n",
       "  /* unfitted */\n",
       "  background: var(--sklearn-color-unfitted-level-0);\n",
       "  border: .5pt solid var(--sklearn-color-unfitted-level-3);\n",
       "}\n",
       "\n",
       ".sk-estimator-doc-link.fitted span {\n",
       "  /* fitted */\n",
       "  background: var(--sklearn-color-fitted-level-0);\n",
       "  border: var(--sklearn-color-fitted-level-3);\n",
       "}\n",
       "\n",
       ".sk-estimator-doc-link:hover span {\n",
       "  display: block;\n",
       "}\n",
       "\n",
       "/* \"?\"-specific style due to the `<a>` HTML tag */\n",
       "\n",
       "#sk-container-id-4 a.estimator_doc_link {\n",
       "  float: right;\n",
       "  font-size: 1rem;\n",
       "  line-height: 1em;\n",
       "  font-family: monospace;\n",
       "  background-color: var(--sklearn-color-background);\n",
       "  border-radius: 1rem;\n",
       "  height: 1rem;\n",
       "  width: 1rem;\n",
       "  text-decoration: none;\n",
       "  /* unfitted */\n",
       "  color: var(--sklearn-color-unfitted-level-1);\n",
       "  border: var(--sklearn-color-unfitted-level-1) 1pt solid;\n",
       "}\n",
       "\n",
       "#sk-container-id-4 a.estimator_doc_link.fitted {\n",
       "  /* fitted */\n",
       "  border: var(--sklearn-color-fitted-level-1) 1pt solid;\n",
       "  color: var(--sklearn-color-fitted-level-1);\n",
       "}\n",
       "\n",
       "/* On hover */\n",
       "#sk-container-id-4 a.estimator_doc_link:hover {\n",
       "  /* unfitted */\n",
       "  background-color: var(--sklearn-color-unfitted-level-3);\n",
       "  color: var(--sklearn-color-background);\n",
       "  text-decoration: none;\n",
       "}\n",
       "\n",
       "#sk-container-id-4 a.estimator_doc_link.fitted:hover {\n",
       "  /* fitted */\n",
       "  background-color: var(--sklearn-color-fitted-level-3);\n",
       "}\n",
       "</style><div id=\"sk-container-id-4\" class=\"sk-top-container\"><div class=\"sk-text-repr-fallback\"><pre>RandomForestClassifier(max_depth=8, n_estimators=5, n_jobs=8)</pre><b>In a Jupyter environment, please rerun this cell to show the HTML representation or trust the notebook. <br />On GitHub, the HTML representation is unable to render, please try loading this page with nbviewer.org.</b></div><div class=\"sk-container\" hidden><div class=\"sk-item\"><div class=\"sk-estimator fitted sk-toggleable\"><input class=\"sk-toggleable__control sk-hidden--visually\" id=\"sk-estimator-id-2\" type=\"checkbox\" checked><label for=\"sk-estimator-id-2\" class=\"sk-toggleable__label fitted sk-toggleable__label-arrow fitted\">&nbsp;&nbsp;RandomForestClassifier<a class=\"sk-estimator-doc-link fitted\" rel=\"noreferrer\" target=\"_blank\" href=\"https://scikit-learn.org/1.4/modules/generated/sklearn.ensemble.RandomForestClassifier.html\">?<span>Documentation for RandomForestClassifier</span></a><span class=\"sk-estimator-doc-link fitted\">i<span>Fitted</span></span></label><div class=\"sk-toggleable__content fitted\"><pre>RandomForestClassifier(max_depth=8, n_estimators=5, n_jobs=8)</pre></div> </div></div></div></div>"
      ],
      "text/plain": [
       "RandomForestClassifier(max_depth=8, n_estimators=5, n_jobs=8)"
      ]
     },
     "execution_count": 34,
     "metadata": {},
     "output_type": "execute_result"
    }
   ],
   "source": [
    "forest = clf.best_estimator_\n",
    "forest"
   ]
  },
  {
   "cell_type": "code",
   "execution_count": 35,
   "id": "0fe786f8-6631-4322-8bab-4847d0ad5e73",
   "metadata": {},
   "outputs": [
    {
     "name": "stdout",
     "output_type": "stream",
     "text": [
      "Base RandomForest accuracy on full dataset:  0.8086489691288087\n",
      "Base RandomForest accuracy on test dataset:  0.8089984768909197\n",
      "RandomForest accuracy on full dataset:  0.8086489691288087\n",
      "RandomForest accuracy on test dataset:  0.8089984768909197\n"
     ]
    }
   ],
   "source": [
    "# print(clf.cv_results_['mean_test_score'].mean(), clf.cv_results_['mean_test_score'])\n",
    "\n",
    "print('Base RandomForest accuracy on full dataset: ', base_forest.score(X, y))\n",
    "print('Base RandomForest accuracy on test dataset: ', base_forest.score(X_test, y_test))\n",
    "\n",
    "print('RandomForest accuracy on full dataset: ', forest.score(X, y))\n",
    "print('RandomForest accuracy on test dataset: ', forest.score(X_test, y_test))"
   ]
  },
  {
   "cell_type": "code",
   "execution_count": 37,
   "id": "1a955a87-1d74-42cc-8255-0ce9100da90d",
   "metadata": {},
   "outputs": [],
   "source": [
    "# dump(forest, MODEL_PATH / 'final_7f_5e_8d_809.joblib')\n",
    "\n",
    "# dump(base_forest, MODEL_PATH / 'rq_gb6_jet_spe_3m_forest_5e_10d_806.joblib')\n",
    "# forest = load(Path(MODEL_PATH) / 'rq_gb6_jet_spe_3m_forest_5e_10d_808.joblib')\n",
    "\n",
    "# dump(clf.best_estimator_, Path(MODEL_PATH) / 'gb6_3_forest_80.joblib')\n",
    "# forest2 = load(Path(MODEL_PATH) / 'gb6_3_forest_80.joblib')\n",
    "\n",
    "# dump(clf, Path(MODEL_PATH) / 'gb6_3_gridcv_80.joblib')\n",
    "# clf2 = load(Path(MODEL_PATH) / 'gb6_3_gridcv_80.joblib')\n",
    "\n",
    "# forest = load(Path(MODEL_PATH) / 'final_7f_5e_10d_811.joblib')\n",
    "# forest"
   ]
  },
  {
   "cell_type": "markdown",
   "id": "3817d021-d539-4d90-b04e-5c95635a15ed",
   "metadata": {},
   "source": [
    "## Permutation Importance"
   ]
  },
  {
   "cell_type": "code",
   "execution_count": 145,
   "id": "2b89b505-19aa-4142-888d-ab4c177f57a4",
   "metadata": {},
   "outputs": [
    {
     "data": {
      "text/plain": [
       "sleep_length    0.037802\n",
       "util            0.007691\n",
       "max_cap         0.002124\n",
       "s0hit           0.000708\n",
       "s0int           0.016370\n",
       "s1hit           0.056520\n",
       "rq_cpu_time     0.003029\n",
       "ttwu_count      0.003558\n",
       "sched_count     0.001877\n",
       "yld_count       0.000357\n",
       "dtype: float64"
      ]
     },
     "execution_count": 145,
     "metadata": {},
     "output_type": "execute_result"
    }
   ],
   "source": [
    "from sklearn.inspection import permutation_importance\n",
    "\n",
    "result = permutation_importance(\n",
    "    base_forest, X_train, y_train, n_repeats=10, n_jobs=4\n",
    ")\n",
    "\n",
    "forest_importances = pd.Series(result.importances_mean, index=X_test.columns)\n",
    "\n",
    "forest_importances"
   ]
  },
  {
   "cell_type": "markdown",
   "id": "cd1b72c1-79c0-4ee0-b1cf-af117a4433bd",
   "metadata": {},
   "source": [
    "## Dump for C inference"
   ]
  },
  {
   "cell_type": "code",
   "execution_count": 7,
   "id": "a07c2559-d916-4b62-9c09-c1183a40c831",
   "metadata": {},
   "outputs": [],
   "source": [
    "X_test.to_csv('features.csv', index=False, header=False)"
   ]
  },
  {
   "cell_type": "code",
   "execution_count": 8,
   "id": "4aa98fa7-b346-434e-9eb5-b844baa96efd",
   "metadata": {},
   "outputs": [],
   "source": [
    "y_test.to_csv('labels.csv', index=False, header=False)"
   ]
  },
  {
   "cell_type": "code",
   "execution_count": 191,
   "id": "ee7e5835-596d-40cb-be1a-c06521741b38",
   "metadata": {},
   "outputs": [
    {
     "name": "stderr",
     "output_type": "stream",
     "text": [
      "In file included from tmp/myinlinetree.c:2:\n",
      "tmp/myinlinetree.h:1224:9: warning: initialization discards ‘const’ qualifier from pointer target type [-Wdiscarded-qualifiers]\n",
      " 1224 |         myinlinetree_leaves,\n",
      "      |         ^~~~~~~~~~~~~~~~~~~\n",
      "tmp/myinlinetree.c: In function ‘classify’:\n",
      "tmp/myinlinetree.c:6:64: warning: passing argument 1 of ‘myinlinetree_predict’ from incompatible pointer type [-Wincompatible-pointer-types]\n",
      "    6 |             printf(\"%d,%f\\n\", row, (float)myinlinetree_predict(values, length));\n",
      "      |                                                                ^~~~~~\n",
      "      |                                                                |\n",
      "      |                                                                const float *\n",
      "tmp/myinlinetree.h:6063:45: note: expected ‘const int64_t *’ {aka ‘const long int *’} but argument is of type ‘const float *’\n",
      " 6063 | int32_t myinlinetree_predict(const int64_t *features, int32_t features_length) {\n",
      "      |                              ~~~~~~~~~~~~~~~^~~~~~~~\n",
      "In file included from tmp/myinlinetree_proba.c:2:\n",
      "tmp/myinlinetree_proba.h:1224:9: warning: initialization discards ‘const’ qualifier from pointer target type [-Wdiscarded-qualifiers]\n",
      " 1224 |         myinlinetree_leaves,\n",
      "      |         ^~~~~~~~~~~~~~~~~~~\n"
     ]
    },
    {
     "data": {
      "text/plain": [
       "<emlearn.trees.Wrapper at 0x7ff70df3ad50>"
      ]
     },
     "execution_count": 191,
     "metadata": {},
     "output_type": "execute_result"
    }
   ],
   "source": [
    "cmodel = emlearn.convert(forest, method='inline', dtype='int64_t')\n",
    "cmodel.save(file='final_7f_5e_8d.h', name='random_forest_idle')\n",
    "cmodel"
   ]
  },
  {
   "cell_type": "markdown",
   "id": "774ca906-061f-445b-8f06-3fd3891e827d",
   "metadata": {},
   "source": [
    "# Validation"
   ]
  },
  {
   "cell_type": "markdown",
   "id": "7b2437fa-918e-4a74-8346-b10d00d4d820",
   "metadata": {},
   "source": [
    "## Load validation data"
   ]
  },
  {
   "cell_type": "code",
   "execution_count": 27,
   "id": "45af348e-616b-4393-8dfc-456579c502cb",
   "metadata": {},
   "outputs": [
    {
     "name": "stdout",
     "output_type": "stream",
     "text": [
      "gb6 (1627098, 23)\n",
      "jet (6570098, 23)\n",
      "spe (4293457, 23)\n",
      "dra (13390326, 23)\n"
     ]
    }
   ],
   "source": [
    "test_data_gb6 = pl.read_parquet(GB6_T / ANA / 'idle_decisions.pqt')\n",
    "print('gb6', test_data_gb6.shape)\n",
    "\n",
    "test_data_jet = pl.read_parquet(JET_T / ANA / 'idle_decisions.pqt')\n",
    "print('jet', test_data_jet.shape)\n",
    "\n",
    "test_data_spe = pl.read_parquet(SPE_T / ANA / 'idle_decisions.pqt')\n",
    "print('spe', test_data_spe.shape)\n",
    "\n",
    "test_data_dra = pl.read_parquet(DRA_T / ANA / 'idle_decisions.pqt')\n",
    "print('dra', test_data_dra.shape)"
   ]
  },
  {
   "cell_type": "markdown",
   "id": "6ae1378f-11fe-4935-bece-635ce46b6669",
   "metadata": {},
   "source": [
    "## GB6 validation"
   ]
  },
  {
   "cell_type": "code",
   "execution_count": 38,
   "id": "ea93a5c1-4005-4fb2-acd5-f9015820f565",
   "metadata": {},
   "outputs": [
    {
     "name": "stdout",
     "output_type": "stream",
     "text": [
      "TEO GB6 test set decision accuracy 0.7841973870043476 0.07577724267376643 0.14002537032188597\n",
      "RandomForests GB6 test set decision accuracy 0.8109689766688915\n"
     ]
    },
    {
     "name": "stderr",
     "output_type": "stream",
     "text": [
      "/home/kajetan/tools/lisa/.lisa-venv-3.11/lib/python3.11/site-packages/sklearn/base.py:486: UserWarning: X has feature names, but MLPClassifier was fitted without feature names\n",
      "  warnings.warn(\n"
     ]
    },
    {
     "name": "stdout",
     "output_type": "stream",
     "text": [
      "MLP GB6 test set decision accuracy 0.4812863146534505\n"
     ]
    }
   ],
   "source": [
    "gb6_test_hits = test_data_gb6.filter(pl.col('state') == pl.col('goal_state')).height / test_data_gb6.height\n",
    "gb6_test_too_deep = test_data_gb6.filter(pl.col('state') > pl.col('goal_state')).height / test_data_gb6.height\n",
    "gb6_test_too_shallow = test_data_gb6.filter(pl.col('state') < pl.col('goal_state')).height / test_data_gb6.height\n",
    "print('TEO GB6 test set decision accuracy', gb6_test_hits, gb6_test_too_deep, gb6_test_too_shallow)\n",
    "\n",
    "X_test_gb6, y_test_gb6 = training_strip(test_data_gb6)\n",
    "print('RandomForests GB6 test set decision accuracy', forest.score(X_test_gb6, y_test_gb6))\n",
    "# print('MLP GB6 test set decision accuracy', mlp.score(X_test_gb6, y_test_gb6))"
   ]
  },
  {
   "cell_type": "markdown",
   "id": "3863553a-b7e8-49b1-86f7-5186e3b683b1",
   "metadata": {},
   "source": [
    "## JetNews validation"
   ]
  },
  {
   "cell_type": "code",
   "execution_count": 42,
   "id": "802ad1b6-3571-40ad-aafa-e1a84b6aa3a0",
   "metadata": {},
   "outputs": [
    {
     "name": "stdout",
     "output_type": "stream",
     "text": [
      "TEO JetNews test set decision accuracy 0.9038658175266183 0.008279328557960626 0.08785485391542106\n",
      "RandomForests JetNews test set decision accuracy 0.9032066188358225\n"
     ]
    }
   ],
   "source": [
    "jet_test_hits = test_data_jet.filter(pl.col('state') == pl.col('goal_state')).height / test_data_jet.height\n",
    "jet_test_too_deep = test_data_jet.filter(pl.col('state') > pl.col('goal_state')).height / test_data_jet.height\n",
    "jet_test_too_shallow = test_data_jet.filter(pl.col('state') < pl.col('goal_state')).height / test_data_jet.height\n",
    "print('TEO JetNews test set decision accuracy', jet_test_hits, jet_test_too_deep, jet_test_too_shallow)\n",
    "\n",
    "X_test_jet, y_test_jet = training_strip(test_data_jet)\n",
    "print('RandomForests JetNews test set decision accuracy', forest.score(X_test_jet, y_test_jet))\n",
    "# print('MLP JetNews test set decision accuracy', mlp.score(X_test_jet, y_test_jet))"
   ]
  },
  {
   "cell_type": "markdown",
   "id": "f474142d-dcac-4644-9687-d012819ad72e",
   "metadata": {},
   "source": [
    "## Speedometer validation"
   ]
  },
  {
   "cell_type": "code",
   "execution_count": 40,
   "id": "ee732327-a3e1-4575-8a4d-61eb45571beb",
   "metadata": {},
   "outputs": [
    {
     "name": "stdout",
     "output_type": "stream",
     "text": [
      "TEO Speedometer test set decision accuracy 0.8508903198518117 0.008203179861822302 0.14090650028636598\n",
      "RandomForests Speedometer test set decision accuracy 0.8522400480545165\n"
     ]
    }
   ],
   "source": [
    "spe_test_hits = test_data_spe.filter(pl.col('state') == pl.col('goal_state')).height / test_data_spe.height\n",
    "spe_test_too_deep = test_data_spe.filter(pl.col('state') > pl.col('goal_state')).height / test_data_spe.height\n",
    "spe_test_too_shallow = test_data_spe.filter(pl.col('state') < pl.col('goal_state')).height / test_data_spe.height\n",
    "print('TEO Speedometer test set decision accuracy', spe_test_hits, spe_test_too_deep, spe_test_too_shallow)\n",
    "\n",
    "X_test_spe, y_test_spe = training_strip(test_data_spe)\n",
    "print('RandomForests Speedometer test set decision accuracy', forest.score(X_test_spe, y_test_spe))\n",
    "# print('MLP Speedometer test set decision accuracy', mlp.score(X_test_spe, y_test_spe))"
   ]
  },
  {
   "cell_type": "markdown",
   "id": "94702ed3-5353-412d-b521-d23e072cade8",
   "metadata": {},
   "source": [
    "## DrArm validation"
   ]
  },
  {
   "cell_type": "code",
   "execution_count": 41,
   "id": "1ac5aa34-b0e4-4caa-9701-a1cc5354d965",
   "metadata": {},
   "outputs": [
    {
     "name": "stdout",
     "output_type": "stream",
     "text": [
      "TEO DrArm test set decision accuracy 0.9518459072617053 0.0009025919159847191 0.047251500822310076\n",
      "RandomForests DrArm decision accuracy 0.9514400918991816\n"
     ]
    }
   ],
   "source": [
    "dra_test_hits = test_data_dra.filter(pl.col('state') == pl.col('goal_state')).height / test_data_dra.height\n",
    "dra_test_too_deep = test_data_dra.filter(pl.col('state') > pl.col('goal_state')).height / test_data_dra.height\n",
    "dra_test_too_shallow = test_data_dra.filter(pl.col('state') < pl.col('goal_state')).height / test_data_dra.height\n",
    "print('TEO DrArm test set decision accuracy', dra_test_hits, dra_test_too_deep, dra_test_too_shallow)\n",
    "\n",
    "X_dra, y_dra = training_strip(test_data_dra)\n",
    "print('RandomForests DrArm decision accuracy', forest.score(X_dra, y_dra))\n",
    "# print('MLP DrArm decision accuracy', mlp.score(X_dra, y_dra))"
   ]
  },
  {
   "cell_type": "markdown",
   "id": "a3ca4f7d-cb7b-4e4b-8dbd-0939a75d9f86",
   "metadata": {},
   "source": [
    "# MLP"
   ]
  },
  {
   "cell_type": "code",
   "execution_count": 9,
   "id": "28ce3421-ec0d-44da-82e5-965cbd943148",
   "metadata": {},
   "outputs": [
    {
     "name": "stderr",
     "output_type": "stream",
     "text": [
      "/home/kajetan/tools/lisa/.lisa-venv-3.11/lib/python3.11/site-packages/sklearn/neural_network/_multilayer_perceptron.py:546: ConvergenceWarning: lbfgs failed to converge (status=1):\n",
      "STOP: TOTAL NO. of ITERATIONS REACHED LIMIT.\n",
      "\n",
      "Increase the number of iterations (max_iter) or scale the data as shown in:\n",
      "    https://scikit-learn.org/stable/modules/preprocessing.html\n",
      "  self.n_iter_ = _check_optimize_result(\"lbfgs\", opt_res, self.max_iter)\n"
     ]
    },
    {
     "name": "stdout",
     "output_type": "stream",
     "text": [
      "MLP accuracy on training set: 0.808\n",
      "MLP accuracy on test set: 0.808\n"
     ]
    }
   ],
   "source": [
    "X_mlp, y_mlp = training_strip(idle_data)\n",
    "X_mlp_train, X_mlp_test, y_mlp_train, y_mlp_test = train_test_split(X_mlp, y_mlp)\n",
    "\n",
    "scaler = StandardScaler()  \n",
    "scaler.fit(X_mlp_train)  \n",
    "X_mlp_train = scaler.transform(X_mlp_train)  \n",
    "X_mlp_test = scaler.transform(X_mlp_test)  \n",
    "\n",
    "mlp = MLPClassifier(solver='lbfgs')\n",
    "mlp.fit(X_mlp_train, y_mlp_train)\n",
    "print(\"MLP accuracy on training set: {:.3f}\".format(mlp.score(X_mlp_train, y_mlp_train)))\n",
    "print(\"MLP accuracy on test set: {:.3f}\".format(mlp.score(X_mlp_test, y_mlp_test)))"
   ]
  },
  {
   "cell_type": "code",
   "execution_count": 10,
   "id": "e54cceb8-745c-4ea5-993c-ec02e4546510",
   "metadata": {},
   "outputs": [
    {
     "name": "stdout",
     "output_type": "stream",
     "text": [
      "MLP accuracy on test dataset:  0.8080709225721032\n"
     ]
    }
   ],
   "source": [
    "dump(mlp, MODEL_PATH / 'final_lbfgs_mlp_808.joblib')\n",
    "\n",
    "print('MLP accuracy on test dataset: ', mlp.score(X_mlp_test, y_mlp_test))"
   ]
  },
  {
   "cell_type": "markdown",
   "id": "6f1d2ca7-d945-45c8-8326-90ecf2ed6287",
   "metadata": {},
   "source": [
    "# Optimal Idle Residency Simulations"
   ]
  },
  {
   "cell_type": "code",
   "execution_count": 78,
   "id": "77544ccb-0aa2-44d8-847c-0abed66bce4c",
   "metadata": {},
   "outputs": [],
   "source": [
    "def cpu_cluster(cpu):\n",
    "    return 'little' if cpu < 4 else 'big' if cpu > 5 else 'mid'\n",
    "\n",
    "cluster_ids = {'little':0, 'mid':1, 'big':2}\n",
    "\n",
    "def simulate_goal_idle_residency(data):\n",
    "    measured_state = data.filter(pl.col('measured') != -1).group_by(['cpu', 'state']).agg(pl.col('measured').sum() / (10**9)).sort(['cpu', 'state']).rename({'measured':'residency'}).with_columns(pl.col('state').cast(pl.Int32))\n",
    "    measured_goal_state = data.filter(pl.col('measured') != -1).group_by(['cpu', 'goal_state']).agg(pl.col('measured').sum() / (10**9)).sort(['cpu', 'goal_state']).rename({'goal_state':'state'}).rename({'measured':'optimal_residency'})\n",
    "    result = measured_state.join(measured_goal_state, on=['cpu', 'state'])\n",
    "\n",
    "    result = result.with_columns(\n",
    "        pl.col(\"cpu\").map_elements(cpu_cluster).alias('cluster'),\n",
    "        pl.col(\"cpu\").map_elements(lambda c: cluster_ids[cpu_cluster(c)]).alias('cluster_id')\n",
    "    ).group_by(['cluster', 'cluster_id', 'state']).sum().sort(['cluster_id', 'state']).drop(['cpu', 'cluster_id'])\n",
    "    \n",
    "    return result\n",
    "\n",
    "sim_res = simulate_goal_idle_residency(idle_data).melt(id_vars=['cluster', 'state'], value_vars=['residency', 'optimal_residency']).with_columns(\n",
    "    pl.col('value') / pl.col('value').sum()\n",
    ")"
   ]
  },
  {
   "cell_type": "code",
   "execution_count": 80,
   "id": "21b49614-895e-4039-8533-733e9ff5e404",
   "metadata": {},
   "outputs": [
    {
     "data": {
      "application/vnd.plotly.v1+json": {
       "config": {
        "plotlyServerURL": "https://plot.ly"
       },
       "data": [
        {
         "alignmentgroup": "True",
         "hovertemplate": "variable=residency<br>cluster=little<br>value=%{x}<br>state=%{y}<extra></extra>",
         "legendgroup": "residency",
         "marker": {
          "color": "#636efa",
          "pattern": {
           "shape": ""
          }
         },
         "name": "residency",
         "offsetgroup": "residency",
         "orientation": "h",
         "showlegend": true,
         "textposition": "auto",
         "type": "bar",
         "visible": true,
         "x": [
          0.1353770902277054,
          0.12489368204345871
         ],
         "xaxis": "x3",
         "y": [
          0,
          1
         ],
         "yaxis": "y3"
        },
        {
         "alignmentgroup": "True",
         "hovertemplate": "variable=residency<br>cluster=mid<br>value=%{x}<br>state=%{y}<extra></extra>",
         "legendgroup": "residency",
         "marker": {
          "color": "#636efa",
          "pattern": {
           "shape": ""
          }
         },
         "name": "residency",
         "offsetgroup": "residency",
         "orientation": "h",
         "showlegend": false,
         "textposition": "auto",
         "type": "bar",
         "visible": true,
         "x": [
          0.048612768588305044,
          0.08994674642074382
         ],
         "xaxis": "x2",
         "y": [
          0,
          1
         ],
         "yaxis": "y2"
        },
        {
         "alignmentgroup": "True",
         "hovertemplate": "variable=residency<br>cluster=big<br>value=%{x}<br>state=%{y}<extra></extra>",
         "legendgroup": "residency",
         "marker": {
          "color": "#636efa",
          "pattern": {
           "shape": ""
          }
         },
         "name": "residency",
         "offsetgroup": "residency",
         "orientation": "h",
         "showlegend": false,
         "textposition": "auto",
         "type": "bar",
         "visible": true,
         "x": [
          0.04273219057721323,
          0.05843752214257392
         ],
         "xaxis": "x",
         "y": [
          0,
          1
         ],
         "yaxis": "y"
        },
        {
         "alignmentgroup": "True",
         "hovertemplate": "variable=optimal_residency<br>cluster=little<br>value=%{x}<br>state=%{y}<extra></extra>",
         "legendgroup": "optimal_residency",
         "marker": {
          "color": "#EF553B",
          "pattern": {
           "shape": ""
          }
         },
         "name": "optimal_residency",
         "offsetgroup": "optimal_residency",
         "orientation": "h",
         "showlegend": true,
         "textposition": "auto",
         "type": "bar",
         "x": [
          0.0379556489485908,
          0.2223151233225733
         ],
         "xaxis": "x3",
         "y": [
          0,
          1
         ],
         "yaxis": "y3"
        },
        {
         "alignmentgroup": "True",
         "hovertemplate": "variable=optimal_residency<br>cluster=mid<br>value=%{x}<br>state=%{y}<extra></extra>",
         "legendgroup": "optimal_residency",
         "marker": {
          "color": "#EF553B",
          "pattern": {
           "shape": ""
          }
         },
         "name": "optimal_residency",
         "offsetgroup": "optimal_residency",
         "orientation": "h",
         "showlegend": false,
         "textposition": "auto",
         "type": "bar",
         "x": [
          0.014497346228668518,
          0.12406216878038032
         ],
         "xaxis": "x2",
         "y": [
          0,
          1
         ],
         "yaxis": "y2"
        },
        {
         "alignmentgroup": "True",
         "hovertemplate": "variable=optimal_residency<br>cluster=big<br>value=%{x}<br>state=%{y}<extra></extra>",
         "legendgroup": "optimal_residency",
         "marker": {
          "color": "#EF553B",
          "pattern": {
           "shape": ""
          }
         },
         "name": "optimal_residency",
         "offsetgroup": "optimal_residency",
         "orientation": "h",
         "showlegend": false,
         "textposition": "auto",
         "type": "bar",
         "x": [
          0.01571854520746216,
          0.08545116751232498
         ],
         "xaxis": "x",
         "y": [
          0,
          1
         ],
         "yaxis": "y"
        }
       ],
       "layout": {
        "annotations": [
         {
          "font": {},
          "showarrow": false,
          "text": "cluster=big",
          "x": 0.5,
          "xanchor": "center",
          "xref": "paper",
          "y": 0.2866666666666666,
          "yanchor": "bottom",
          "yref": "paper"
         },
         {
          "font": {},
          "showarrow": false,
          "text": "cluster=mid",
          "x": 0.5,
          "xanchor": "center",
          "xref": "paper",
          "y": 0.6433333333333333,
          "yanchor": "bottom",
          "yref": "paper"
         },
         {
          "font": {},
          "showarrow": false,
          "text": "cluster=little",
          "x": 0.5,
          "xanchor": "center",
          "xref": "paper",
          "y": 0.9999999999999999,
          "yanchor": "bottom",
          "yref": "paper"
         }
        ],
        "barmode": "group",
        "height": 600,
        "legend": {
         "title": {
          "text": "variable"
         },
         "tracegroupgap": 0
        },
        "template": {
         "data": {
          "bar": [
           {
            "error_x": {
             "color": "#2a3f5f"
            },
            "error_y": {
             "color": "#2a3f5f"
            },
            "marker": {
             "line": {
              "color": "#E5ECF6",
              "width": 0.5
             },
             "pattern": {
              "fillmode": "overlay",
              "size": 10,
              "solidity": 0.2
             }
            },
            "type": "bar"
           }
          ],
          "barpolar": [
           {
            "marker": {
             "line": {
              "color": "#E5ECF6",
              "width": 0.5
             },
             "pattern": {
              "fillmode": "overlay",
              "size": 10,
              "solidity": 0.2
             }
            },
            "type": "barpolar"
           }
          ],
          "carpet": [
           {
            "aaxis": {
             "endlinecolor": "#2a3f5f",
             "gridcolor": "white",
             "linecolor": "white",
             "minorgridcolor": "white",
             "startlinecolor": "#2a3f5f"
            },
            "baxis": {
             "endlinecolor": "#2a3f5f",
             "gridcolor": "white",
             "linecolor": "white",
             "minorgridcolor": "white",
             "startlinecolor": "#2a3f5f"
            },
            "type": "carpet"
           }
          ],
          "choropleth": [
           {
            "colorbar": {
             "outlinewidth": 0,
             "ticks": ""
            },
            "type": "choropleth"
           }
          ],
          "contour": [
           {
            "colorbar": {
             "outlinewidth": 0,
             "ticks": ""
            },
            "colorscale": [
             [
              0,
              "#0d0887"
             ],
             [
              0.1111111111111111,
              "#46039f"
             ],
             [
              0.2222222222222222,
              "#7201a8"
             ],
             [
              0.3333333333333333,
              "#9c179e"
             ],
             [
              0.4444444444444444,
              "#bd3786"
             ],
             [
              0.5555555555555556,
              "#d8576b"
             ],
             [
              0.6666666666666666,
              "#ed7953"
             ],
             [
              0.7777777777777778,
              "#fb9f3a"
             ],
             [
              0.8888888888888888,
              "#fdca26"
             ],
             [
              1,
              "#f0f921"
             ]
            ],
            "type": "contour"
           }
          ],
          "contourcarpet": [
           {
            "colorbar": {
             "outlinewidth": 0,
             "ticks": ""
            },
            "type": "contourcarpet"
           }
          ],
          "heatmap": [
           {
            "colorbar": {
             "outlinewidth": 0,
             "ticks": ""
            },
            "colorscale": [
             [
              0,
              "#0d0887"
             ],
             [
              0.1111111111111111,
              "#46039f"
             ],
             [
              0.2222222222222222,
              "#7201a8"
             ],
             [
              0.3333333333333333,
              "#9c179e"
             ],
             [
              0.4444444444444444,
              "#bd3786"
             ],
             [
              0.5555555555555556,
              "#d8576b"
             ],
             [
              0.6666666666666666,
              "#ed7953"
             ],
             [
              0.7777777777777778,
              "#fb9f3a"
             ],
             [
              0.8888888888888888,
              "#fdca26"
             ],
             [
              1,
              "#f0f921"
             ]
            ],
            "type": "heatmap"
           }
          ],
          "heatmapgl": [
           {
            "colorbar": {
             "outlinewidth": 0,
             "ticks": ""
            },
            "colorscale": [
             [
              0,
              "#0d0887"
             ],
             [
              0.1111111111111111,
              "#46039f"
             ],
             [
              0.2222222222222222,
              "#7201a8"
             ],
             [
              0.3333333333333333,
              "#9c179e"
             ],
             [
              0.4444444444444444,
              "#bd3786"
             ],
             [
              0.5555555555555556,
              "#d8576b"
             ],
             [
              0.6666666666666666,
              "#ed7953"
             ],
             [
              0.7777777777777778,
              "#fb9f3a"
             ],
             [
              0.8888888888888888,
              "#fdca26"
             ],
             [
              1,
              "#f0f921"
             ]
            ],
            "type": "heatmapgl"
           }
          ],
          "histogram": [
           {
            "marker": {
             "pattern": {
              "fillmode": "overlay",
              "size": 10,
              "solidity": 0.2
             }
            },
            "type": "histogram"
           }
          ],
          "histogram2d": [
           {
            "colorbar": {
             "outlinewidth": 0,
             "ticks": ""
            },
            "colorscale": [
             [
              0,
              "#0d0887"
             ],
             [
              0.1111111111111111,
              "#46039f"
             ],
             [
              0.2222222222222222,
              "#7201a8"
             ],
             [
              0.3333333333333333,
              "#9c179e"
             ],
             [
              0.4444444444444444,
              "#bd3786"
             ],
             [
              0.5555555555555556,
              "#d8576b"
             ],
             [
              0.6666666666666666,
              "#ed7953"
             ],
             [
              0.7777777777777778,
              "#fb9f3a"
             ],
             [
              0.8888888888888888,
              "#fdca26"
             ],
             [
              1,
              "#f0f921"
             ]
            ],
            "type": "histogram2d"
           }
          ],
          "histogram2dcontour": [
           {
            "colorbar": {
             "outlinewidth": 0,
             "ticks": ""
            },
            "colorscale": [
             [
              0,
              "#0d0887"
             ],
             [
              0.1111111111111111,
              "#46039f"
             ],
             [
              0.2222222222222222,
              "#7201a8"
             ],
             [
              0.3333333333333333,
              "#9c179e"
             ],
             [
              0.4444444444444444,
              "#bd3786"
             ],
             [
              0.5555555555555556,
              "#d8576b"
             ],
             [
              0.6666666666666666,
              "#ed7953"
             ],
             [
              0.7777777777777778,
              "#fb9f3a"
             ],
             [
              0.8888888888888888,
              "#fdca26"
             ],
             [
              1,
              "#f0f921"
             ]
            ],
            "type": "histogram2dcontour"
           }
          ],
          "mesh3d": [
           {
            "colorbar": {
             "outlinewidth": 0,
             "ticks": ""
            },
            "type": "mesh3d"
           }
          ],
          "parcoords": [
           {
            "line": {
             "colorbar": {
              "outlinewidth": 0,
              "ticks": ""
             }
            },
            "type": "parcoords"
           }
          ],
          "pie": [
           {
            "automargin": true,
            "type": "pie"
           }
          ],
          "scatter": [
           {
            "fillpattern": {
             "fillmode": "overlay",
             "size": 10,
             "solidity": 0.2
            },
            "type": "scatter"
           }
          ],
          "scatter3d": [
           {
            "line": {
             "colorbar": {
              "outlinewidth": 0,
              "ticks": ""
             }
            },
            "marker": {
             "colorbar": {
              "outlinewidth": 0,
              "ticks": ""
             }
            },
            "type": "scatter3d"
           }
          ],
          "scattercarpet": [
           {
            "marker": {
             "colorbar": {
              "outlinewidth": 0,
              "ticks": ""
             }
            },
            "type": "scattercarpet"
           }
          ],
          "scattergeo": [
           {
            "marker": {
             "colorbar": {
              "outlinewidth": 0,
              "ticks": ""
             }
            },
            "type": "scattergeo"
           }
          ],
          "scattergl": [
           {
            "marker": {
             "colorbar": {
              "outlinewidth": 0,
              "ticks": ""
             }
            },
            "type": "scattergl"
           }
          ],
          "scattermapbox": [
           {
            "marker": {
             "colorbar": {
              "outlinewidth": 0,
              "ticks": ""
             }
            },
            "type": "scattermapbox"
           }
          ],
          "scatterpolar": [
           {
            "marker": {
             "colorbar": {
              "outlinewidth": 0,
              "ticks": ""
             }
            },
            "type": "scatterpolar"
           }
          ],
          "scatterpolargl": [
           {
            "marker": {
             "colorbar": {
              "outlinewidth": 0,
              "ticks": ""
             }
            },
            "type": "scatterpolargl"
           }
          ],
          "scatterternary": [
           {
            "marker": {
             "colorbar": {
              "outlinewidth": 0,
              "ticks": ""
             }
            },
            "type": "scatterternary"
           }
          ],
          "surface": [
           {
            "colorbar": {
             "outlinewidth": 0,
             "ticks": ""
            },
            "colorscale": [
             [
              0,
              "#0d0887"
             ],
             [
              0.1111111111111111,
              "#46039f"
             ],
             [
              0.2222222222222222,
              "#7201a8"
             ],
             [
              0.3333333333333333,
              "#9c179e"
             ],
             [
              0.4444444444444444,
              "#bd3786"
             ],
             [
              0.5555555555555556,
              "#d8576b"
             ],
             [
              0.6666666666666666,
              "#ed7953"
             ],
             [
              0.7777777777777778,
              "#fb9f3a"
             ],
             [
              0.8888888888888888,
              "#fdca26"
             ],
             [
              1,
              "#f0f921"
             ]
            ],
            "type": "surface"
           }
          ],
          "table": [
           {
            "cells": {
             "fill": {
              "color": "#EBF0F8"
             },
             "line": {
              "color": "white"
             }
            },
            "header": {
             "fill": {
              "color": "#C8D4E3"
             },
             "line": {
              "color": "white"
             }
            },
            "type": "table"
           }
          ]
         },
         "layout": {
          "annotationdefaults": {
           "arrowcolor": "#2a3f5f",
           "arrowhead": 0,
           "arrowwidth": 1
          },
          "autotypenumbers": "strict",
          "coloraxis": {
           "colorbar": {
            "outlinewidth": 0,
            "ticks": ""
           }
          },
          "colorscale": {
           "diverging": [
            [
             0,
             "#8e0152"
            ],
            [
             0.1,
             "#c51b7d"
            ],
            [
             0.2,
             "#de77ae"
            ],
            [
             0.3,
             "#f1b6da"
            ],
            [
             0.4,
             "#fde0ef"
            ],
            [
             0.5,
             "#f7f7f7"
            ],
            [
             0.6,
             "#e6f5d0"
            ],
            [
             0.7,
             "#b8e186"
            ],
            [
             0.8,
             "#7fbc41"
            ],
            [
             0.9,
             "#4d9221"
            ],
            [
             1,
             "#276419"
            ]
           ],
           "sequential": [
            [
             0,
             "#0d0887"
            ],
            [
             0.1111111111111111,
             "#46039f"
            ],
            [
             0.2222222222222222,
             "#7201a8"
            ],
            [
             0.3333333333333333,
             "#9c179e"
            ],
            [
             0.4444444444444444,
             "#bd3786"
            ],
            [
             0.5555555555555556,
             "#d8576b"
            ],
            [
             0.6666666666666666,
             "#ed7953"
            ],
            [
             0.7777777777777778,
             "#fb9f3a"
            ],
            [
             0.8888888888888888,
             "#fdca26"
            ],
            [
             1,
             "#f0f921"
            ]
           ],
           "sequentialminus": [
            [
             0,
             "#0d0887"
            ],
            [
             0.1111111111111111,
             "#46039f"
            ],
            [
             0.2222222222222222,
             "#7201a8"
            ],
            [
             0.3333333333333333,
             "#9c179e"
            ],
            [
             0.4444444444444444,
             "#bd3786"
            ],
            [
             0.5555555555555556,
             "#d8576b"
            ],
            [
             0.6666666666666666,
             "#ed7953"
            ],
            [
             0.7777777777777778,
             "#fb9f3a"
            ],
            [
             0.8888888888888888,
             "#fdca26"
            ],
            [
             1,
             "#f0f921"
            ]
           ]
          },
          "colorway": [
           "#636efa",
           "#EF553B",
           "#00cc96",
           "#ab63fa",
           "#FFA15A",
           "#19d3f3",
           "#FF6692",
           "#B6E880",
           "#FF97FF",
           "#FECB52"
          ],
          "font": {
           "color": "#2a3f5f"
          },
          "geo": {
           "bgcolor": "white",
           "lakecolor": "white",
           "landcolor": "#E5ECF6",
           "showlakes": true,
           "showland": true,
           "subunitcolor": "white"
          },
          "hoverlabel": {
           "align": "left"
          },
          "hovermode": "closest",
          "mapbox": {
           "style": "light"
          },
          "paper_bgcolor": "white",
          "plot_bgcolor": "#E5ECF6",
          "polar": {
           "angularaxis": {
            "gridcolor": "white",
            "linecolor": "white",
            "ticks": ""
           },
           "bgcolor": "#E5ECF6",
           "radialaxis": {
            "gridcolor": "white",
            "linecolor": "white",
            "ticks": ""
           }
          },
          "scene": {
           "xaxis": {
            "backgroundcolor": "#E5ECF6",
            "gridcolor": "white",
            "gridwidth": 2,
            "linecolor": "white",
            "showbackground": true,
            "ticks": "",
            "zerolinecolor": "white"
           },
           "yaxis": {
            "backgroundcolor": "#E5ECF6",
            "gridcolor": "white",
            "gridwidth": 2,
            "linecolor": "white",
            "showbackground": true,
            "ticks": "",
            "zerolinecolor": "white"
           },
           "zaxis": {
            "backgroundcolor": "#E5ECF6",
            "gridcolor": "white",
            "gridwidth": 2,
            "linecolor": "white",
            "showbackground": true,
            "ticks": "",
            "zerolinecolor": "white"
           }
          },
          "shapedefaults": {
           "line": {
            "color": "#2a3f5f"
           }
          },
          "ternary": {
           "aaxis": {
            "gridcolor": "white",
            "linecolor": "white",
            "ticks": ""
           },
           "baxis": {
            "gridcolor": "white",
            "linecolor": "white",
            "ticks": ""
           },
           "bgcolor": "#E5ECF6",
           "caxis": {
            "gridcolor": "white",
            "linecolor": "white",
            "ticks": ""
           }
          },
          "title": {
           "x": 0.05
          },
          "xaxis": {
           "automargin": true,
           "gridcolor": "white",
           "linecolor": "white",
           "ticks": "",
           "title": {
            "standoff": 15
           },
           "zerolinecolor": "white",
           "zerolinewidth": 2
          },
          "yaxis": {
           "automargin": true,
           "gridcolor": "white",
           "linecolor": "white",
           "ticks": "",
           "title": {
            "standoff": 15
           },
           "zerolinecolor": "white",
           "zerolinewidth": 2
          }
         }
        },
        "title": {
         "text": "Residency vs Optimal residency per cluster [% of total time]"
        },
        "width": 500,
        "xaxis": {
         "anchor": "y",
         "autorange": true,
         "domain": [
          0,
          1
         ],
         "range": [
          0,
          0.23401591928691928
         ],
         "title": {
          "text": "value"
         },
         "type": "linear"
        },
        "xaxis2": {
         "anchor": "y2",
         "autorange": true,
         "domain": [
          0,
          1
         ],
         "matches": "x",
         "range": [
          0,
          0.23401591928691928
         ],
         "showticklabels": false,
         "type": "linear"
        },
        "xaxis3": {
         "anchor": "y3",
         "autorange": true,
         "domain": [
          0,
          1
         ],
         "matches": "x",
         "range": [
          0,
          0.23401591928691928
         ],
         "showticklabels": false,
         "type": "linear"
        },
        "yaxis": {
         "anchor": "x",
         "autorange": true,
         "domain": [
          0,
          0.2866666666666666
         ],
         "range": [
          -0.5,
          1.5
         ],
         "title": {
          "text": "state"
         },
         "type": "linear"
        },
        "yaxis2": {
         "anchor": "x2",
         "autorange": true,
         "domain": [
          0.35666666666666663,
          0.6433333333333333
         ],
         "matches": "y",
         "range": [
          -0.5,
          1.5
         ],
         "title": {
          "text": "state"
         },
         "type": "linear"
        },
        "yaxis3": {
         "anchor": "x3",
         "autorange": true,
         "domain": [
          0.7133333333333333,
          0.9999999999999999
         ],
         "matches": "y",
         "range": [
          -0.5,
          1.5
         ],
         "title": {
          "text": "state"
         },
         "type": "linear"
        }
       }
      },
      "image/png": "[encoded data removed]",
      "text/html": [
       "<div>                            <div id=\"b7a63a67-25c2-455c-8b9e-c5d3557a3d86\" class=\"plotly-graph-div\" style=\"height:600px; width:500px;\"></div>            <script type=\"text/javascript\">                require([\"plotly\"], function(Plotly) {                    window.PLOTLYENV=window.PLOTLYENV || {};                                    if (document.getElementById(\"b7a63a67-25c2-455c-8b9e-c5d3557a3d86\")) {                    Plotly.newPlot(                        \"b7a63a67-25c2-455c-8b9e-c5d3557a3d86\",                        [{\"alignmentgroup\":\"True\",\"hovertemplate\":\"variable=residency\\u003cbr\\u003ecluster=little\\u003cbr\\u003evalue=%{x}\\u003cbr\\u003estate=%{y}\\u003cextra\\u003e\\u003c\\u002fextra\\u003e\",\"legendgroup\":\"residency\",\"marker\":{\"color\":\"#636efa\",\"pattern\":{\"shape\":\"\"}},\"name\":\"residency\",\"offsetgroup\":\"residency\",\"orientation\":\"h\",\"showlegend\":true,\"textposition\":\"auto\",\"x\":[0.1353770902277054,0.12489368204345871],\"xaxis\":\"x3\",\"y\":[0,1],\"yaxis\":\"y3\",\"type\":\"bar\"},{\"alignmentgroup\":\"True\",\"hovertemplate\":\"variable=residency\\u003cbr\\u003ecluster=mid\\u003cbr\\u003evalue=%{x}\\u003cbr\\u003estate=%{y}\\u003cextra\\u003e\\u003c\\u002fextra\\u003e\",\"legendgroup\":\"residency\",\"marker\":{\"color\":\"#636efa\",\"pattern\":{\"shape\":\"\"}},\"name\":\"residency\",\"offsetgroup\":\"residency\",\"orientation\":\"h\",\"showlegend\":false,\"textposition\":\"auto\",\"x\":[0.048612768588305044,0.08994674642074382],\"xaxis\":\"x2\",\"y\":[0,1],\"yaxis\":\"y2\",\"type\":\"bar\"},{\"alignmentgroup\":\"True\",\"hovertemplate\":\"variable=residency\\u003cbr\\u003ecluster=big\\u003cbr\\u003evalue=%{x}\\u003cbr\\u003estate=%{y}\\u003cextra\\u003e\\u003c\\u002fextra\\u003e\",\"legendgroup\":\"residency\",\"marker\":{\"color\":\"#636efa\",\"pattern\":{\"shape\":\"\"}},\"name\":\"residency\",\"offsetgroup\":\"residency\",\"orientation\":\"h\",\"showlegend\":false,\"textposition\":\"auto\",\"x\":[0.04273219057721323,0.05843752214257392],\"xaxis\":\"x\",\"y\":[0,1],\"yaxis\":\"y\",\"type\":\"bar\"},{\"alignmentgroup\":\"True\",\"hovertemplate\":\"variable=optimal_residency\\u003cbr\\u003ecluster=little\\u003cbr\\u003evalue=%{x}\\u003cbr\\u003estate=%{y}\\u003cextra\\u003e\\u003c\\u002fextra\\u003e\",\"legendgroup\":\"optimal_residency\",\"marker\":{\"color\":\"#EF553B\",\"pattern\":{\"shape\":\"\"}},\"name\":\"optimal_residency\",\"offsetgroup\":\"optimal_residency\",\"orientation\":\"h\",\"showlegend\":true,\"textposition\":\"auto\",\"x\":[0.0379556489485908,0.2223151233225733],\"xaxis\":\"x3\",\"y\":[0,1],\"yaxis\":\"y3\",\"type\":\"bar\"},{\"alignmentgroup\":\"True\",\"hovertemplate\":\"variable=optimal_residency\\u003cbr\\u003ecluster=mid\\u003cbr\\u003evalue=%{x}\\u003cbr\\u003estate=%{y}\\u003cextra\\u003e\\u003c\\u002fextra\\u003e\",\"legendgroup\":\"optimal_residency\",\"marker\":{\"color\":\"#EF553B\",\"pattern\":{\"shape\":\"\"}},\"name\":\"optimal_residency\",\"offsetgroup\":\"optimal_residency\",\"orientation\":\"h\",\"showlegend\":false,\"textposition\":\"auto\",\"x\":[0.014497346228668518,0.12406216878038032],\"xaxis\":\"x2\",\"y\":[0,1],\"yaxis\":\"y2\",\"type\":\"bar\"},{\"alignmentgroup\":\"True\",\"hovertemplate\":\"variable=optimal_residency\\u003cbr\\u003ecluster=big\\u003cbr\\u003evalue=%{x}\\u003cbr\\u003estate=%{y}\\u003cextra\\u003e\\u003c\\u002fextra\\u003e\",\"legendgroup\":\"optimal_residency\",\"marker\":{\"color\":\"#EF553B\",\"pattern\":{\"shape\":\"\"}},\"name\":\"optimal_residency\",\"offsetgroup\":\"optimal_residency\",\"orientation\":\"h\",\"showlegend\":false,\"textposition\":\"auto\",\"x\":[0.01571854520746216,0.08545116751232498],\"xaxis\":\"x\",\"y\":[0,1],\"yaxis\":\"y\",\"type\":\"bar\"}],                        {\"template\":{\"data\":{\"histogram2dcontour\":[{\"type\":\"histogram2dcontour\",\"colorbar\":{\"outlinewidth\":0,\"ticks\":\"\"},\"colorscale\":[[0.0,\"#0d0887\"],[0.1111111111111111,\"#46039f\"],[0.2222222222222222,\"#7201a8\"],[0.3333333333333333,\"#9c179e\"],[0.4444444444444444,\"#bd3786\"],[0.5555555555555556,\"#d8576b\"],[0.6666666666666666,\"#ed7953\"],[0.7777777777777778,\"#fb9f3a\"],[0.8888888888888888,\"#fdca26\"],[1.0,\"#f0f921\"]]}],\"choropleth\":[{\"type\":\"choropleth\",\"colorbar\":{\"outlinewidth\":0,\"ticks\":\"\"}}],\"histogram2d\":[{\"type\":\"histogram2d\",\"colorbar\":{\"outlinewidth\":0,\"ticks\":\"\"},\"colorscale\":[[0.0,\"#0d0887\"],[0.1111111111111111,\"#46039f\"],[0.2222222222222222,\"#7201a8\"],[0.3333333333333333,\"#9c179e\"],[0.4444444444444444,\"#bd3786\"],[0.5555555555555556,\"#d8576b\"],[0.6666666666666666,\"#ed7953\"],[0.7777777777777778,\"#fb9f3a\"],[0.8888888888888888,\"#fdca26\"],[1.0,\"#f0f921\"]]}],\"heatmap\":[{\"type\":\"heatmap\",\"colorbar\":{\"outlinewidth\":0,\"ticks\":\"\"},\"colorscale\":[[0.0,\"#0d0887\"],[0.1111111111111111,\"#46039f\"],[0.2222222222222222,\"#7201a8\"],[0.3333333333333333,\"#9c179e\"],[0.4444444444444444,\"#bd3786\"],[0.5555555555555556,\"#d8576b\"],[0.6666666666666666,\"#ed7953\"],[0.7777777777777778,\"#fb9f3a\"],[0.8888888888888888,\"#fdca26\"],[1.0,\"#f0f921\"]]}],\"heatmapgl\":[{\"type\":\"heatmapgl\",\"colorbar\":{\"outlinewidth\":0,\"ticks\":\"\"},\"colorscale\":[[0.0,\"#0d0887\"],[0.1111111111111111,\"#46039f\"],[0.2222222222222222,\"#7201a8\"],[0.3333333333333333,\"#9c179e\"],[0.4444444444444444,\"#bd3786\"],[0.5555555555555556,\"#d8576b\"],[0.6666666666666666,\"#ed7953\"],[0.7777777777777778,\"#fb9f3a\"],[0.8888888888888888,\"#fdca26\"],[1.0,\"#f0f921\"]]}],\"contourcarpet\":[{\"type\":\"contourcarpet\",\"colorbar\":{\"outlinewidth\":0,\"ticks\":\"\"}}],\"contour\":[{\"type\":\"contour\",\"colorbar\":{\"outlinewidth\":0,\"ticks\":\"\"},\"colorscale\":[[0.0,\"#0d0887\"],[0.1111111111111111,\"#46039f\"],[0.2222222222222222,\"#7201a8\"],[0.3333333333333333,\"#9c179e\"],[0.4444444444444444,\"#bd3786\"],[0.5555555555555556,\"#d8576b\"],[0.6666666666666666,\"#ed7953\"],[0.7777777777777778,\"#fb9f3a\"],[0.8888888888888888,\"#fdca26\"],[1.0,\"#f0f921\"]]}],\"surface\":[{\"type\":\"surface\",\"colorbar\":{\"outlinewidth\":0,\"ticks\":\"\"},\"colorscale\":[[0.0,\"#0d0887\"],[0.1111111111111111,\"#46039f\"],[0.2222222222222222,\"#7201a8\"],[0.3333333333333333,\"#9c179e\"],[0.4444444444444444,\"#bd3786\"],[0.5555555555555556,\"#d8576b\"],[0.6666666666666666,\"#ed7953\"],[0.7777777777777778,\"#fb9f3a\"],[0.8888888888888888,\"#fdca26\"],[1.0,\"#f0f921\"]]}],\"mesh3d\":[{\"type\":\"mesh3d\",\"colorbar\":{\"outlinewidth\":0,\"ticks\":\"\"}}],\"scatter\":[{\"fillpattern\":{\"fillmode\":\"overlay\",\"size\":10,\"solidity\":0.2},\"type\":\"scatter\"}],\"parcoords\":[{\"type\":\"parcoords\",\"line\":{\"colorbar\":{\"outlinewidth\":0,\"ticks\":\"\"}}}],\"scatterpolargl\":[{\"type\":\"scatterpolargl\",\"marker\":{\"colorbar\":{\"outlinewidth\":0,\"ticks\":\"\"}}}],\"bar\":[{\"error_x\":{\"color\":\"#2a3f5f\"},\"error_y\":{\"color\":\"#2a3f5f\"},\"marker\":{\"line\":{\"color\":\"#E5ECF6\",\"width\":0.5},\"pattern\":{\"fillmode\":\"overlay\",\"size\":10,\"solidity\":0.2}},\"type\":\"bar\"}],\"scattergeo\":[{\"type\":\"scattergeo\",\"marker\":{\"colorbar\":{\"outlinewidth\":0,\"ticks\":\"\"}}}],\"scatterpolar\":[{\"type\":\"scatterpolar\",\"marker\":{\"colorbar\":{\"outlinewidth\":0,\"ticks\":\"\"}}}],\"histogram\":[{\"marker\":{\"pattern\":{\"fillmode\":\"overlay\",\"size\":10,\"solidity\":0.2}},\"type\":\"histogram\"}],\"scattergl\":[{\"type\":\"scattergl\",\"marker\":{\"colorbar\":{\"outlinewidth\":0,\"ticks\":\"\"}}}],\"scatter3d\":[{\"type\":\"scatter3d\",\"line\":{\"colorbar\":{\"outlinewidth\":0,\"ticks\":\"\"}},\"marker\":{\"colorbar\":{\"outlinewidth\":0,\"ticks\":\"\"}}}],\"scattermapbox\":[{\"type\":\"scattermapbox\",\"marker\":{\"colorbar\":{\"outlinewidth\":0,\"ticks\":\"\"}}}],\"scatterternary\":[{\"type\":\"scatterternary\",\"marker\":{\"colorbar\":{\"outlinewidth\":0,\"ticks\":\"\"}}}],\"scattercarpet\":[{\"type\":\"scattercarpet\",\"marker\":{\"colorbar\":{\"outlinewidth\":0,\"ticks\":\"\"}}}],\"carpet\":[{\"aaxis\":{\"endlinecolor\":\"#2a3f5f\",\"gridcolor\":\"white\",\"linecolor\":\"white\",\"minorgridcolor\":\"white\",\"startlinecolor\":\"#2a3f5f\"},\"baxis\":{\"endlinecolor\":\"#2a3f5f\",\"gridcolor\":\"white\",\"linecolor\":\"white\",\"minorgridcolor\":\"white\",\"startlinecolor\":\"#2a3f5f\"},\"type\":\"carpet\"}],\"table\":[{\"cells\":{\"fill\":{\"color\":\"#EBF0F8\"},\"line\":{\"color\":\"white\"}},\"header\":{\"fill\":{\"color\":\"#C8D4E3\"},\"line\":{\"color\":\"white\"}},\"type\":\"table\"}],\"barpolar\":[{\"marker\":{\"line\":{\"color\":\"#E5ECF6\",\"width\":0.5},\"pattern\":{\"fillmode\":\"overlay\",\"size\":10,\"solidity\":0.2}},\"type\":\"barpolar\"}],\"pie\":[{\"automargin\":true,\"type\":\"pie\"}]},\"layout\":{\"autotypenumbers\":\"strict\",\"colorway\":[\"#636efa\",\"#EF553B\",\"#00cc96\",\"#ab63fa\",\"#FFA15A\",\"#19d3f3\",\"#FF6692\",\"#B6E880\",\"#FF97FF\",\"#FECB52\"],\"font\":{\"color\":\"#2a3f5f\"},\"hovermode\":\"closest\",\"hoverlabel\":{\"align\":\"left\"},\"paper_bgcolor\":\"white\",\"plot_bgcolor\":\"#E5ECF6\",\"polar\":{\"bgcolor\":\"#E5ECF6\",\"angularaxis\":{\"gridcolor\":\"white\",\"linecolor\":\"white\",\"ticks\":\"\"},\"radialaxis\":{\"gridcolor\":\"white\",\"linecolor\":\"white\",\"ticks\":\"\"}},\"ternary\":{\"bgcolor\":\"#E5ECF6\",\"aaxis\":{\"gridcolor\":\"white\",\"linecolor\":\"white\",\"ticks\":\"\"},\"baxis\":{\"gridcolor\":\"white\",\"linecolor\":\"white\",\"ticks\":\"\"},\"caxis\":{\"gridcolor\":\"white\",\"linecolor\":\"white\",\"ticks\":\"\"}},\"coloraxis\":{\"colorbar\":{\"outlinewidth\":0,\"ticks\":\"\"}},\"colorscale\":{\"sequential\":[[0.0,\"#0d0887\"],[0.1111111111111111,\"#46039f\"],[0.2222222222222222,\"#7201a8\"],[0.3333333333333333,\"#9c179e\"],[0.4444444444444444,\"#bd3786\"],[0.5555555555555556,\"#d8576b\"],[0.6666666666666666,\"#ed7953\"],[0.7777777777777778,\"#fb9f3a\"],[0.8888888888888888,\"#fdca26\"],[1.0,\"#f0f921\"]],\"sequentialminus\":[[0.0,\"#0d0887\"],[0.1111111111111111,\"#46039f\"],[0.2222222222222222,\"#7201a8\"],[0.3333333333333333,\"#9c179e\"],[0.4444444444444444,\"#bd3786\"],[0.5555555555555556,\"#d8576b\"],[0.6666666666666666,\"#ed7953\"],[0.7777777777777778,\"#fb9f3a\"],[0.8888888888888888,\"#fdca26\"],[1.0,\"#f0f921\"]],\"diverging\":[[0,\"#8e0152\"],[0.1,\"#c51b7d\"],[0.2,\"#de77ae\"],[0.3,\"#f1b6da\"],[0.4,\"#fde0ef\"],[0.5,\"#f7f7f7\"],[0.6,\"#e6f5d0\"],[0.7,\"#b8e186\"],[0.8,\"#7fbc41\"],[0.9,\"#4d9221\"],[1,\"#276419\"]]},\"xaxis\":{\"gridcolor\":\"white\",\"linecolor\":\"white\",\"ticks\":\"\",\"title\":{\"standoff\":15},\"zerolinecolor\":\"white\",\"automargin\":true,\"zerolinewidth\":2},\"yaxis\":{\"gridcolor\":\"white\",\"linecolor\":\"white\",\"ticks\":\"\",\"title\":{\"standoff\":15},\"zerolinecolor\":\"white\",\"automargin\":true,\"zerolinewidth\":2},\"scene\":{\"xaxis\":{\"backgroundcolor\":\"#E5ECF6\",\"gridcolor\":\"white\",\"linecolor\":\"white\",\"showbackground\":true,\"ticks\":\"\",\"zerolinecolor\":\"white\",\"gridwidth\":2},\"yaxis\":{\"backgroundcolor\":\"#E5ECF6\",\"gridcolor\":\"white\",\"linecolor\":\"white\",\"showbackground\":true,\"ticks\":\"\",\"zerolinecolor\":\"white\",\"gridwidth\":2},\"zaxis\":{\"backgroundcolor\":\"#E5ECF6\",\"gridcolor\":\"white\",\"linecolor\":\"white\",\"showbackground\":true,\"ticks\":\"\",\"zerolinecolor\":\"white\",\"gridwidth\":2}},\"shapedefaults\":{\"line\":{\"color\":\"#2a3f5f\"}},\"annotationdefaults\":{\"arrowcolor\":\"#2a3f5f\",\"arrowhead\":0,\"arrowwidth\":1},\"geo\":{\"bgcolor\":\"white\",\"landcolor\":\"#E5ECF6\",\"subunitcolor\":\"white\",\"showland\":true,\"showlakes\":true,\"lakecolor\":\"white\"},\"title\":{\"x\":0.05},\"mapbox\":{\"style\":\"light\"}}},\"xaxis\":{\"anchor\":\"y\",\"domain\":[0.0,1.0],\"title\":{\"text\":\"value\"}},\"yaxis\":{\"anchor\":\"x\",\"domain\":[0.0,0.2866666666666666],\"title\":{\"text\":\"state\"}},\"xaxis2\":{\"anchor\":\"y2\",\"domain\":[0.0,1.0],\"matches\":\"x\",\"showticklabels\":false},\"yaxis2\":{\"anchor\":\"x2\",\"domain\":[0.35666666666666663,0.6433333333333333],\"matches\":\"y\",\"title\":{\"text\":\"state\"}},\"xaxis3\":{\"anchor\":\"y3\",\"domain\":[0.0,1.0],\"matches\":\"x\",\"showticklabels\":false},\"yaxis3\":{\"anchor\":\"x3\",\"domain\":[0.7133333333333333,0.9999999999999999],\"matches\":\"y\",\"title\":{\"text\":\"state\"}},\"annotations\":[{\"font\":{},\"showarrow\":false,\"text\":\"cluster=big\",\"x\":0.5,\"xanchor\":\"center\",\"xref\":\"paper\",\"y\":0.2866666666666666,\"yanchor\":\"bottom\",\"yref\":\"paper\"},{\"font\":{},\"showarrow\":false,\"text\":\"cluster=mid\",\"x\":0.5,\"xanchor\":\"center\",\"xref\":\"paper\",\"y\":0.6433333333333333,\"yanchor\":\"bottom\",\"yref\":\"paper\"},{\"font\":{},\"showarrow\":false,\"text\":\"cluster=little\",\"x\":0.5,\"xanchor\":\"center\",\"xref\":\"paper\",\"y\":0.9999999999999999,\"yanchor\":\"bottom\",\"yref\":\"paper\"}],\"legend\":{\"title\":{\"text\":\"variable\"},\"tracegroupgap\":0},\"title\":{\"text\":\"Residency vs Optimal residency per cluster [% of total time]\"},\"barmode\":\"group\",\"height\":600,\"width\":500},                        {\"responsive\": true}                    ).then(function(){\n",
       "                            \n",
       "var gd = document.getElementById('b7a63a67-25c2-455c-8b9e-c5d3557a3d86');\n",
       "var x = new MutationObserver(function (mutations, observer) {{\n",
       "        var display = window.getComputedStyle(gd).display;\n",
       "        if (!display || display === 'none') {{\n",
       "            console.log([gd, 'removed!']);\n",
       "            Plotly.purge(gd);\n",
       "            observer.disconnect();\n",
       "        }}\n",
       "}});\n",
       "\n",
       "// Listen for the removal of the full notebook cells\n",
       "var notebookContainer = gd.closest('#notebook-container');\n",
       "if (notebookContainer) {{\n",
       "    x.observe(notebookContainer, {childList: true});\n",
       "}}\n",
       "\n",
       "// Listen for the clearing of the current output cell\n",
       "var outputEl = gd.closest('.output');\n",
       "if (outputEl) {{\n",
       "    x.observe(outputEl, {childList: true});\n",
       "}}\n",
       "\n",
       "                        })                };                });            </script>        </div>"
      ]
     },
     "metadata": {},
     "output_type": "display_data"
    }
   ],
   "source": [
    "px.bar(sim_res, x='value', y='state', color='variable', facet_col='cluster', facet_col_wrap=1, barmode='group', height=600, width=500, orientation='h', title='Residency vs Optimal residency per cluster [% of total time]')"
   ]
  }
 ],
 "metadata": {
  "kernelspec": {
   "display_name": "Python 3 (ipykernel)",
   "language": "python",
   "name": "python3"
  },
  "language_info": {
   "codemirror_mode": {
    "name": "ipython",
    "version": 3
   },
   "file_extension": ".py",
   "mimetype": "text/x-python",
   "name": "python",
   "nbconvert_exporter": "python",
   "pygments_lexer": "ipython3",
   "version": "3.11.8"
  }
 },
 "nbformat": 4,
 "nbformat_minor": 5
}
